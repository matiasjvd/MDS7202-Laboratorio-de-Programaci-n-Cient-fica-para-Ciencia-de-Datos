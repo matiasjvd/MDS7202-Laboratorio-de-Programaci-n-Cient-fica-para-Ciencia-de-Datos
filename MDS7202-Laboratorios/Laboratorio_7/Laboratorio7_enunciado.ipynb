{
 "cells": [
  {
   "cell_type": "markdown",
   "metadata": {
    "cell_id": "e651654461c3474fb2b0d36de22a6c14",
    "deepnote_cell_height": 103.53334045410156,
    "deepnote_cell_type": "markdown",
    "id": "XUZ1dFPHzAHl"
   },
   "source": [
    "<h1><center>Laboratorio 7: Aprendizaje Supervisado 🔮</center></h1>\n",
    "\n",
    "<center><strong>MDS7202: Laboratorio de Programación Científica para Ciencia de Datos</strong></center>"
   ]
  },
  {
   "cell_type": "markdown",
   "metadata": {
    "cell_id": "7a6943958920482eb851e608d1efb6ac",
    "deepnote_cell_type": "markdown",
    "id": "UD8X1uhGzAHq"
   },
   "source": [
    "### Cuerpo Docente:\n",
    "\n",
    "- Profesor: Matías Rojas y Mauricio Araneda\n",
    "- Auxiliar: Ignacio Meza D.\n",
    "- Ayudante: Rodrigo Guerra"
   ]
  },
  {
   "cell_type": "markdown",
   "metadata": {
    "cell_id": "0202c4ed94184a289e51ca5325b8afba",
    "deepnote_cell_height": 139.5,
    "deepnote_cell_type": "markdown",
    "id": "tXflExjqzAHr"
   },
   "source": [
    "### Equipo: SUPER IMPORTANTE - notebooks sin nombre no serán revisados\n",
    "\n",
    "- Nombre de alumno 1: Matías Villa\n",
    "- Nombre de alumno 2: Cristobal Bravo\n"
   ]
  },
  {
   "cell_type": "markdown",
   "metadata": {
    "cell_id": "ce180f8cd3f3485fabbe6c0959a648db",
    "deepnote_cell_height": 61.28334045410156,
    "deepnote_cell_type": "markdown",
    "id": "AD-V0bbZzAHr"
   },
   "source": [
    "### **Link de repositorio de GitHub:** `https://github.com/matiasjvd/MDS7202-Laboratorio-de-Programacion-Cientifica-para-Ciencia-de-Datos.git`"
   ]
  },
  {
   "cell_type": "markdown",
   "metadata": {
    "cell_id": "df3ab193db4a4f09ac25dbe605e3a83a",
    "deepnote_cell_height": 603.8499755859375,
    "deepnote_cell_type": "markdown",
    "id": "6uBLPj1PzAHs"
   },
   "source": [
    "## Temas a tratar\n",
    "\n",
    "- Aprendizaje Supervisado\n",
    "- Flujos de datos a través de `Pipelines`.\n",
    "\n",
    "## Reglas\n",
    "\n",
    "- Fecha de entrega: TBD\n",
    "- **Grupos de 2 personas**\n",
    "- **Ausentes** deberán realizar la actividad solos. \n",
    "- Cualquier duda fuera del horario de clases al foro. Mensajes al equipo docente serán respondidos por este medio.\n",
    "- Prohibidas las copias. \n",
    "- Pueden usar cualquer matrial del curso que estimen conveniente.\n",
    "\n",
    "## Objetivos principales del laboratorio\n",
    "\n",
    "- Comprender el funcionamiento de clasificadores/regresores.\n",
    "- Generar múltiples modelos predictivos.\n",
    "- Comprender las ventajas de crear modelos en pipeline vs hacer las operaciones a mano.\n",
    "\n",
    "El laboratorio deberá ser desarrollado sin el uso indiscriminado de iteradores nativos de python (aka \"for\", \"while\"). La idea es que aprendan a exprimir al máximo las funciones optimizadas que nos entrega `pandas`, las cuales vale mencionar, son bastante más eficientes que los iteradores nativos sobre `DataFrames`."
   ]
  },
  {
   "cell_type": "markdown",
   "metadata": {
    "cell_id": "ad2df18de2544420960174a3f424bc5c",
    "deepnote_cell_height": 61.133331298828125,
    "deepnote_cell_type": "markdown",
    "id": "MhISwri4zAHy"
   },
   "source": [
    "### Importamos librerias utiles 😸"
   ]
  },
  {
   "cell_type": "code",
   "execution_count": 51,
   "metadata": {
    "ExecuteTime": {
     "end_time": "2021-03-29T00:08:16.884674Z",
     "start_time": "2021-03-29T00:08:16.349846Z"
    },
    "cell_id": "c99537db269c4b04970732c3cccac0c9",
    "colab": {
     "base_uri": "https://localhost:8080/"
    },
    "deepnote_cell_height": 896.5,
    "deepnote_cell_type": "code",
    "deepnote_to_be_reexecuted": false,
    "execution_millis": 7630,
    "execution_start": 1636741163382,
    "id": "uyc33dKdzAHy",
    "outputId": "e8cc251c-aa25-4fdb-db15-3027707cfbdf",
    "owner_user_id": "badcc427-fd3d-4615-9296-faa43ec69cfb",
    "source_hash": "cb3614e"
   },
   "outputs": [
    {
     "name": "stdout",
     "output_type": "stream",
     "text": [
      "Requirement already satisfied: tenacity>=6.2.0 in /opt/anaconda3/lib/python3.9/site-packages (from plotly) (8.0.1)\r\n",
      "Requirement already satisfied: plotly in /opt/anaconda3/lib/python3.9/site-packages (5.11.0)\r\n",
      "Requirement already satisfied: tenacity>=6.2.0 in /opt/anaconda3/lib/python3.9/site-packages (from plotly) (8.0.1)\r\n"
     ]
    }
   ],
   "source": [
    "# Libreria Core del lab.\n",
    "import numpy as np\n",
    "import pandas as pd\n",
    "from sklearn.pipeline import Pipeline\n",
    "from sklearn.compose import ColumnTransformer\n",
    "from sklearn.model_selection import train_test_split \n",
    "\n",
    "# Pre-procesamiento\n",
    "from sklearn.preprocessing import MinMaxScaler\n",
    "from sklearn.preprocessing import StandardScaler\n",
    "from sklearn.preprocessing import FunctionTransformer\n",
    "from sklearn.preprocessing import PowerTransformer\n",
    "from sklearn.preprocessing import OneHotEncoder\n",
    "from sklearn.tree import DecisionTreeClassifier\n",
    "\n",
    "# Metricas de evaluación\n",
    "from sklearn.metrics import classification_report\n",
    "from sklearn.metrics import accuracy_score\n",
    "from sklearn.metrics import f1_score\n",
    "from sklearn.metrics import cohen_kappa_score\n",
    "\n",
    "#Libreria para plotear\n",
    "!pip install --upgrade plotly\n",
    "import plotly.express as px\n",
    "from plotly.subplots import make_subplots\n",
    "import plotly.graph_objects as go"
   ]
  },
  {
   "cell_type": "markdown",
   "metadata": {
    "cell_id": "3960faa7a101458896294c72b4b0758c",
    "deepnote_cell_height": 51.53334045410156,
    "deepnote_cell_type": "markdown",
    "id": "5FTGE74b3FBU"
   },
   "source": [
    "https://www.kaggle.com/antoinekrajnc/soccer-players-statistics"
   ]
  },
  {
   "cell_type": "markdown",
   "metadata": {
    "cell_id": "f9e9147f05744f749e29d4134157f1f3",
    "deepnote_cell_height": 305.933349609375,
    "deepnote_cell_type": "markdown",
    "id": "xpOTbQcxbSiy"
   },
   "source": [
    "# 1. Predicciones Futboleras\n",
    "\n",
    "<p align=\"center\">\n",
    "  <img src=\"https://drive.google.com/uc?export=view&id=1BnO4tyh3vM2P199Ec9s3JjngQ4qQ9seP\"\n",
    "\" width=\"300\">\n",
    "</p>\n",
    "\n",
    "\n",
    "Tras el trágico despido de la mítica mascota de Maipú, Renacín decide adentrarse como consultor en el mercado futbolero, el cuál (para variar...) está cargado en especulaciones. \n",
    "\n",
    "Como su principal tarea será asesorar a los directivos de los clubes sobre cuál jugador comprar y cuál no, Renacín desea generar modelos predictivos que evaluén distintas características de los jugadores; todo con el fin de tomar decisiones concretas basadas en los datos.\n",
    "\n",
    "Sin embargo, su condición de corporeo le impidió tomar la versión anterior de MDS7202, por lo que este motivo Renacín contrata a su equipo para lograr su objetivo final. Dado que aún tiene fuertes vínculos con la dirección de deportes de la municipalidad, el corporeo le entrega base de datos con las estadísticas de cada jugador para que su equipo empieze a trabajar ya con un dataset listo para ser usado.\n"
   ]
  },
  {
   "cell_type": "markdown",
   "metadata": {
    "cell_id": "5b831ae5e73547a1ae5f96b453f1ab2d",
    "deepnote_cell_height": 169.13333129882812,
    "deepnote_cell_type": "markdown",
    "id": "jnmZfFpxTTYX"
   },
   "source": [
    "**Los Datos**\n",
    "\n",
    "Para este laboratorio deberán trabajar con los csv `statsplayers.csv` y `salarios.pickle`, donde deberán aplicar algoritmos de de aprendizaje supervisado (clasificación y regresión) en base a características que describen de jugadores de futbol.\n",
    "\n",
    "Para comenzar cargue el dataset señalado y a continuación vea el reporte **`Player_Stats_Report.html`** (adjunto en la carpeta del enunciado) que describe las características principales del `DataFrame`."
   ]
  },
  {
   "cell_type": "code",
   "execution_count": 52,
   "metadata": {
    "cell_id": "9b9505acaf3f4906bbfc1950b04d9dca",
    "colab": {
     "base_uri": "https://localhost:8080/"
    },
    "deepnote_cell_height": 218.46665954589844,
    "deepnote_cell_type": "code",
    "deepnote_to_be_reexecuted": false,
    "execution_millis": 7,
    "execution_start": 1636741171022,
    "id": "Jqq-s010Iwl1",
    "outputId": "f4cecd84-95c6-4a80-e472-5b8ea011e843",
    "source_hash": "c60dc4a7"
   },
   "outputs": [
    {
     "name": "stdout",
     "output_type": "stream",
     "text": [
      "Ignorando conexión drive-colab\n",
      "Ignorando conexión drive-colab\n"
     ]
    }
   ],
   "source": [
    "# Si usted está utilizando Colabolatory le puede ser útil este código para cargar los archivos.\n",
    "try:\n",
    "    from google.colab import drive\n",
    "    drive.mount(\"/content/drive\")\n",
    "    path = 'Dirección donde tiene los archivos en el Drive'\n",
    "except: \n",
    "    print('Ignorando conexión drive-colab')"
   ]
  },
  {
   "cell_type": "code",
   "execution_count": 53,
   "metadata": {
    "cell_id": "bbd60dabcba44542826c491f69c1f53c",
    "colab": {
     "base_uri": "https://localhost:8080/",
     "height": 309
    },
    "deepnote_cell_height": 490.70001220703125,
    "deepnote_cell_type": "code",
    "deepnote_output_heights": [
     377
    ],
    "deepnote_to_be_reexecuted": false,
    "execution_millis": 184,
    "execution_start": 1636742947300,
    "id": "bED3w3tDbSCf",
    "outputId": "8961b413-9ab2-4d57-8d77-648860771520",
    "source_hash": "65944a94"
   },
   "outputs": [
    {
     "data": {
      "text/plain": "                    Name          Nationality National_Position Club_Position  \\\n0      Cristiano Ronaldo             Portugal                LS            LW   \n1           Lionel Messi            Argentina                RW            RW   \n2                 Neymar               Brazil                LW            LW   \n3            Luis Suárez              Uruguay                LS            ST   \n4           Manuel Neuer              Germany                GK            GK   \n...                  ...                  ...               ...           ...   \n17583        Adam Dunbar  Republic of Ireland               NaN           Sub   \n17584       Dylan McGoey  Republic of Ireland               NaN           Sub   \n17585    Tommy Ouldridge              England               NaN           Res   \n17586         Mark Foden             Scotland               NaN           Sub   \n17587   Barry Richardson              England               NaN           Sub   \n\n       Height  Weight Preffered_Foot  Age        Work_Rate  Weak_foot  ...  \\\n0         185      80          Right   32       High / Low          4  ...   \n1         170      72           Left   29  Medium / Medium          4  ...   \n2         174      68          Right   25    High / Medium          5  ...   \n3         182      85          Right   30    High / Medium          4  ...   \n4         193      92          Right   31  Medium / Medium          4  ...   \n...       ...     ...            ...  ...              ...        ...  ...   \n17583     183      82          Right   19  Medium / Medium          1  ...   \n17584     185      80          Right   19  Medium / Medium          2  ...   \n17585     173      61          Right   18    High / Medium          2  ...   \n17586     180      80          Right   21  Medium / Medium          3  ...   \n17587     185      77          Right   47  Medium / Medium          2  ...   \n\n       Agility  Jumping  Heading  Shot_Power  Finishing  Long_Shots  Curve  \\\n0           90       95       85          92         93          90     81   \n1           90       68       71          85         95          88     89   \n2           96       61       62          78         89          77     79   \n3           86       69       77          87         94          86     86   \n4           52       78       25          25         13          16     14   \n...        ...      ...      ...         ...        ...         ...    ...   \n17583       27       56       14          16         13          13     11   \n17584       28       53       12          17         12          11     12   \n17585       54       61       41          44         28          42     35   \n17586       34       48       15          23         14          12     13   \n17587       38       51       12          13         11          16     12   \n\n       Freekick_Accuracy  Penalties  Volleys  \n0                     76         85       88  \n1                     90         74       85  \n2                     84         81       83  \n3                     84         85       88  \n4                     11         47       11  \n...                  ...        ...      ...  \n17583                 13         15       12  \n17584                 13         16       12  \n17585                 36         42       37  \n17586                 12         24       12  \n17587                 11         22       12  \n\n[17588 rows x 39 columns]",
      "text/html": "<div>\n<style scoped>\n    .dataframe tbody tr th:only-of-type {\n        vertical-align: middle;\n    }\n\n    .dataframe tbody tr th {\n        vertical-align: top;\n    }\n\n    .dataframe thead th {\n        text-align: right;\n    }\n</style>\n<table border=\"1\" class=\"dataframe\">\n  <thead>\n    <tr style=\"text-align: right;\">\n      <th></th>\n      <th>Name</th>\n      <th>Nationality</th>\n      <th>National_Position</th>\n      <th>Club_Position</th>\n      <th>Height</th>\n      <th>Weight</th>\n      <th>Preffered_Foot</th>\n      <th>Age</th>\n      <th>Work_Rate</th>\n      <th>Weak_foot</th>\n      <th>...</th>\n      <th>Agility</th>\n      <th>Jumping</th>\n      <th>Heading</th>\n      <th>Shot_Power</th>\n      <th>Finishing</th>\n      <th>Long_Shots</th>\n      <th>Curve</th>\n      <th>Freekick_Accuracy</th>\n      <th>Penalties</th>\n      <th>Volleys</th>\n    </tr>\n  </thead>\n  <tbody>\n    <tr>\n      <th>0</th>\n      <td>Cristiano Ronaldo</td>\n      <td>Portugal</td>\n      <td>LS</td>\n      <td>LW</td>\n      <td>185</td>\n      <td>80</td>\n      <td>Right</td>\n      <td>32</td>\n      <td>High / Low</td>\n      <td>4</td>\n      <td>...</td>\n      <td>90</td>\n      <td>95</td>\n      <td>85</td>\n      <td>92</td>\n      <td>93</td>\n      <td>90</td>\n      <td>81</td>\n      <td>76</td>\n      <td>85</td>\n      <td>88</td>\n    </tr>\n    <tr>\n      <th>1</th>\n      <td>Lionel Messi</td>\n      <td>Argentina</td>\n      <td>RW</td>\n      <td>RW</td>\n      <td>170</td>\n      <td>72</td>\n      <td>Left</td>\n      <td>29</td>\n      <td>Medium / Medium</td>\n      <td>4</td>\n      <td>...</td>\n      <td>90</td>\n      <td>68</td>\n      <td>71</td>\n      <td>85</td>\n      <td>95</td>\n      <td>88</td>\n      <td>89</td>\n      <td>90</td>\n      <td>74</td>\n      <td>85</td>\n    </tr>\n    <tr>\n      <th>2</th>\n      <td>Neymar</td>\n      <td>Brazil</td>\n      <td>LW</td>\n      <td>LW</td>\n      <td>174</td>\n      <td>68</td>\n      <td>Right</td>\n      <td>25</td>\n      <td>High / Medium</td>\n      <td>5</td>\n      <td>...</td>\n      <td>96</td>\n      <td>61</td>\n      <td>62</td>\n      <td>78</td>\n      <td>89</td>\n      <td>77</td>\n      <td>79</td>\n      <td>84</td>\n      <td>81</td>\n      <td>83</td>\n    </tr>\n    <tr>\n      <th>3</th>\n      <td>Luis Suárez</td>\n      <td>Uruguay</td>\n      <td>LS</td>\n      <td>ST</td>\n      <td>182</td>\n      <td>85</td>\n      <td>Right</td>\n      <td>30</td>\n      <td>High / Medium</td>\n      <td>4</td>\n      <td>...</td>\n      <td>86</td>\n      <td>69</td>\n      <td>77</td>\n      <td>87</td>\n      <td>94</td>\n      <td>86</td>\n      <td>86</td>\n      <td>84</td>\n      <td>85</td>\n      <td>88</td>\n    </tr>\n    <tr>\n      <th>4</th>\n      <td>Manuel Neuer</td>\n      <td>Germany</td>\n      <td>GK</td>\n      <td>GK</td>\n      <td>193</td>\n      <td>92</td>\n      <td>Right</td>\n      <td>31</td>\n      <td>Medium / Medium</td>\n      <td>4</td>\n      <td>...</td>\n      <td>52</td>\n      <td>78</td>\n      <td>25</td>\n      <td>25</td>\n      <td>13</td>\n      <td>16</td>\n      <td>14</td>\n      <td>11</td>\n      <td>47</td>\n      <td>11</td>\n    </tr>\n    <tr>\n      <th>...</th>\n      <td>...</td>\n      <td>...</td>\n      <td>...</td>\n      <td>...</td>\n      <td>...</td>\n      <td>...</td>\n      <td>...</td>\n      <td>...</td>\n      <td>...</td>\n      <td>...</td>\n      <td>...</td>\n      <td>...</td>\n      <td>...</td>\n      <td>...</td>\n      <td>...</td>\n      <td>...</td>\n      <td>...</td>\n      <td>...</td>\n      <td>...</td>\n      <td>...</td>\n      <td>...</td>\n    </tr>\n    <tr>\n      <th>17583</th>\n      <td>Adam Dunbar</td>\n      <td>Republic of Ireland</td>\n      <td>NaN</td>\n      <td>Sub</td>\n      <td>183</td>\n      <td>82</td>\n      <td>Right</td>\n      <td>19</td>\n      <td>Medium / Medium</td>\n      <td>1</td>\n      <td>...</td>\n      <td>27</td>\n      <td>56</td>\n      <td>14</td>\n      <td>16</td>\n      <td>13</td>\n      <td>13</td>\n      <td>11</td>\n      <td>13</td>\n      <td>15</td>\n      <td>12</td>\n    </tr>\n    <tr>\n      <th>17584</th>\n      <td>Dylan McGoey</td>\n      <td>Republic of Ireland</td>\n      <td>NaN</td>\n      <td>Sub</td>\n      <td>185</td>\n      <td>80</td>\n      <td>Right</td>\n      <td>19</td>\n      <td>Medium / Medium</td>\n      <td>2</td>\n      <td>...</td>\n      <td>28</td>\n      <td>53</td>\n      <td>12</td>\n      <td>17</td>\n      <td>12</td>\n      <td>11</td>\n      <td>12</td>\n      <td>13</td>\n      <td>16</td>\n      <td>12</td>\n    </tr>\n    <tr>\n      <th>17585</th>\n      <td>Tommy Ouldridge</td>\n      <td>England</td>\n      <td>NaN</td>\n      <td>Res</td>\n      <td>173</td>\n      <td>61</td>\n      <td>Right</td>\n      <td>18</td>\n      <td>High / Medium</td>\n      <td>2</td>\n      <td>...</td>\n      <td>54</td>\n      <td>61</td>\n      <td>41</td>\n      <td>44</td>\n      <td>28</td>\n      <td>42</td>\n      <td>35</td>\n      <td>36</td>\n      <td>42</td>\n      <td>37</td>\n    </tr>\n    <tr>\n      <th>17586</th>\n      <td>Mark Foden</td>\n      <td>Scotland</td>\n      <td>NaN</td>\n      <td>Sub</td>\n      <td>180</td>\n      <td>80</td>\n      <td>Right</td>\n      <td>21</td>\n      <td>Medium / Medium</td>\n      <td>3</td>\n      <td>...</td>\n      <td>34</td>\n      <td>48</td>\n      <td>15</td>\n      <td>23</td>\n      <td>14</td>\n      <td>12</td>\n      <td>13</td>\n      <td>12</td>\n      <td>24</td>\n      <td>12</td>\n    </tr>\n    <tr>\n      <th>17587</th>\n      <td>Barry Richardson</td>\n      <td>England</td>\n      <td>NaN</td>\n      <td>Sub</td>\n      <td>185</td>\n      <td>77</td>\n      <td>Right</td>\n      <td>47</td>\n      <td>Medium / Medium</td>\n      <td>2</td>\n      <td>...</td>\n      <td>38</td>\n      <td>51</td>\n      <td>12</td>\n      <td>13</td>\n      <td>11</td>\n      <td>16</td>\n      <td>12</td>\n      <td>11</td>\n      <td>22</td>\n      <td>12</td>\n    </tr>\n  </tbody>\n</table>\n<p>17588 rows × 39 columns</p>\n</div>"
     },
     "execution_count": 34,
     "metadata": {},
     "output_type": "execute_result"
    },
    {
     "data": {
      "text/plain": "                    Name          Nationality National_Position Club_Position  \\\n0      Cristiano Ronaldo             Portugal                LS            LW   \n1           Lionel Messi            Argentina                RW            RW   \n2                 Neymar               Brazil                LW            LW   \n3            Luis Suárez              Uruguay                LS            ST   \n4           Manuel Neuer              Germany                GK            GK   \n...                  ...                  ...               ...           ...   \n17583        Adam Dunbar  Republic of Ireland               NaN           Sub   \n17584       Dylan McGoey  Republic of Ireland               NaN           Sub   \n17585    Tommy Ouldridge              England               NaN           Res   \n17586         Mark Foden             Scotland               NaN           Sub   \n17587   Barry Richardson              England               NaN           Sub   \n\n       Height  Weight Preffered_Foot  Age        Work_Rate  Weak_foot  ...  \\\n0         185      80          Right   32       High / Low          4  ...   \n1         170      72           Left   29  Medium / Medium          4  ...   \n2         174      68          Right   25    High / Medium          5  ...   \n3         182      85          Right   30    High / Medium          4  ...   \n4         193      92          Right   31  Medium / Medium          4  ...   \n...       ...     ...            ...  ...              ...        ...  ...   \n17583     183      82          Right   19  Medium / Medium          1  ...   \n17584     185      80          Right   19  Medium / Medium          2  ...   \n17585     173      61          Right   18    High / Medium          2  ...   \n17586     180      80          Right   21  Medium / Medium          3  ...   \n17587     185      77          Right   47  Medium / Medium          2  ...   \n\n       Agility  Jumping  Heading  Shot_Power  Finishing  Long_Shots  Curve  \\\n0           90       95       85          92         93          90     81   \n1           90       68       71          85         95          88     89   \n2           96       61       62          78         89          77     79   \n3           86       69       77          87         94          86     86   \n4           52       78       25          25         13          16     14   \n...        ...      ...      ...         ...        ...         ...    ...   \n17583       27       56       14          16         13          13     11   \n17584       28       53       12          17         12          11     12   \n17585       54       61       41          44         28          42     35   \n17586       34       48       15          23         14          12     13   \n17587       38       51       12          13         11          16     12   \n\n       Freekick_Accuracy  Penalties  Volleys  \n0                     76         85       88  \n1                     90         74       85  \n2                     84         81       83  \n3                     84         85       88  \n4                     11         47       11  \n...                  ...        ...      ...  \n17583                 13         15       12  \n17584                 13         16       12  \n17585                 36         42       37  \n17586                 12         24       12  \n17587                 11         22       12  \n\n[17588 rows x 39 columns]",
      "text/html": "<div>\n<style scoped>\n    .dataframe tbody tr th:only-of-type {\n        vertical-align: middle;\n    }\n\n    .dataframe tbody tr th {\n        vertical-align: top;\n    }\n\n    .dataframe thead th {\n        text-align: right;\n    }\n</style>\n<table border=\"1\" class=\"dataframe\">\n  <thead>\n    <tr style=\"text-align: right;\">\n      <th></th>\n      <th>Name</th>\n      <th>Nationality</th>\n      <th>National_Position</th>\n      <th>Club_Position</th>\n      <th>Height</th>\n      <th>Weight</th>\n      <th>Preffered_Foot</th>\n      <th>Age</th>\n      <th>Work_Rate</th>\n      <th>Weak_foot</th>\n      <th>...</th>\n      <th>Agility</th>\n      <th>Jumping</th>\n      <th>Heading</th>\n      <th>Shot_Power</th>\n      <th>Finishing</th>\n      <th>Long_Shots</th>\n      <th>Curve</th>\n      <th>Freekick_Accuracy</th>\n      <th>Penalties</th>\n      <th>Volleys</th>\n    </tr>\n  </thead>\n  <tbody>\n    <tr>\n      <th>0</th>\n      <td>Cristiano Ronaldo</td>\n      <td>Portugal</td>\n      <td>LS</td>\n      <td>LW</td>\n      <td>185</td>\n      <td>80</td>\n      <td>Right</td>\n      <td>32</td>\n      <td>High / Low</td>\n      <td>4</td>\n      <td>...</td>\n      <td>90</td>\n      <td>95</td>\n      <td>85</td>\n      <td>92</td>\n      <td>93</td>\n      <td>90</td>\n      <td>81</td>\n      <td>76</td>\n      <td>85</td>\n      <td>88</td>\n    </tr>\n    <tr>\n      <th>1</th>\n      <td>Lionel Messi</td>\n      <td>Argentina</td>\n      <td>RW</td>\n      <td>RW</td>\n      <td>170</td>\n      <td>72</td>\n      <td>Left</td>\n      <td>29</td>\n      <td>Medium / Medium</td>\n      <td>4</td>\n      <td>...</td>\n      <td>90</td>\n      <td>68</td>\n      <td>71</td>\n      <td>85</td>\n      <td>95</td>\n      <td>88</td>\n      <td>89</td>\n      <td>90</td>\n      <td>74</td>\n      <td>85</td>\n    </tr>\n    <tr>\n      <th>2</th>\n      <td>Neymar</td>\n      <td>Brazil</td>\n      <td>LW</td>\n      <td>LW</td>\n      <td>174</td>\n      <td>68</td>\n      <td>Right</td>\n      <td>25</td>\n      <td>High / Medium</td>\n      <td>5</td>\n      <td>...</td>\n      <td>96</td>\n      <td>61</td>\n      <td>62</td>\n      <td>78</td>\n      <td>89</td>\n      <td>77</td>\n      <td>79</td>\n      <td>84</td>\n      <td>81</td>\n      <td>83</td>\n    </tr>\n    <tr>\n      <th>3</th>\n      <td>Luis Suárez</td>\n      <td>Uruguay</td>\n      <td>LS</td>\n      <td>ST</td>\n      <td>182</td>\n      <td>85</td>\n      <td>Right</td>\n      <td>30</td>\n      <td>High / Medium</td>\n      <td>4</td>\n      <td>...</td>\n      <td>86</td>\n      <td>69</td>\n      <td>77</td>\n      <td>87</td>\n      <td>94</td>\n      <td>86</td>\n      <td>86</td>\n      <td>84</td>\n      <td>85</td>\n      <td>88</td>\n    </tr>\n    <tr>\n      <th>4</th>\n      <td>Manuel Neuer</td>\n      <td>Germany</td>\n      <td>GK</td>\n      <td>GK</td>\n      <td>193</td>\n      <td>92</td>\n      <td>Right</td>\n      <td>31</td>\n      <td>Medium / Medium</td>\n      <td>4</td>\n      <td>...</td>\n      <td>52</td>\n      <td>78</td>\n      <td>25</td>\n      <td>25</td>\n      <td>13</td>\n      <td>16</td>\n      <td>14</td>\n      <td>11</td>\n      <td>47</td>\n      <td>11</td>\n    </tr>\n    <tr>\n      <th>...</th>\n      <td>...</td>\n      <td>...</td>\n      <td>...</td>\n      <td>...</td>\n      <td>...</td>\n      <td>...</td>\n      <td>...</td>\n      <td>...</td>\n      <td>...</td>\n      <td>...</td>\n      <td>...</td>\n      <td>...</td>\n      <td>...</td>\n      <td>...</td>\n      <td>...</td>\n      <td>...</td>\n      <td>...</td>\n      <td>...</td>\n      <td>...</td>\n      <td>...</td>\n      <td>...</td>\n    </tr>\n    <tr>\n      <th>17583</th>\n      <td>Adam Dunbar</td>\n      <td>Republic of Ireland</td>\n      <td>NaN</td>\n      <td>Sub</td>\n      <td>183</td>\n      <td>82</td>\n      <td>Right</td>\n      <td>19</td>\n      <td>Medium / Medium</td>\n      <td>1</td>\n      <td>...</td>\n      <td>27</td>\n      <td>56</td>\n      <td>14</td>\n      <td>16</td>\n      <td>13</td>\n      <td>13</td>\n      <td>11</td>\n      <td>13</td>\n      <td>15</td>\n      <td>12</td>\n    </tr>\n    <tr>\n      <th>17584</th>\n      <td>Dylan McGoey</td>\n      <td>Republic of Ireland</td>\n      <td>NaN</td>\n      <td>Sub</td>\n      <td>185</td>\n      <td>80</td>\n      <td>Right</td>\n      <td>19</td>\n      <td>Medium / Medium</td>\n      <td>2</td>\n      <td>...</td>\n      <td>28</td>\n      <td>53</td>\n      <td>12</td>\n      <td>17</td>\n      <td>12</td>\n      <td>11</td>\n      <td>12</td>\n      <td>13</td>\n      <td>16</td>\n      <td>12</td>\n    </tr>\n    <tr>\n      <th>17585</th>\n      <td>Tommy Ouldridge</td>\n      <td>England</td>\n      <td>NaN</td>\n      <td>Res</td>\n      <td>173</td>\n      <td>61</td>\n      <td>Right</td>\n      <td>18</td>\n      <td>High / Medium</td>\n      <td>2</td>\n      <td>...</td>\n      <td>54</td>\n      <td>61</td>\n      <td>41</td>\n      <td>44</td>\n      <td>28</td>\n      <td>42</td>\n      <td>35</td>\n      <td>36</td>\n      <td>42</td>\n      <td>37</td>\n    </tr>\n    <tr>\n      <th>17586</th>\n      <td>Mark Foden</td>\n      <td>Scotland</td>\n      <td>NaN</td>\n      <td>Sub</td>\n      <td>180</td>\n      <td>80</td>\n      <td>Right</td>\n      <td>21</td>\n      <td>Medium / Medium</td>\n      <td>3</td>\n      <td>...</td>\n      <td>34</td>\n      <td>48</td>\n      <td>15</td>\n      <td>23</td>\n      <td>14</td>\n      <td>12</td>\n      <td>13</td>\n      <td>12</td>\n      <td>24</td>\n      <td>12</td>\n    </tr>\n    <tr>\n      <th>17587</th>\n      <td>Barry Richardson</td>\n      <td>England</td>\n      <td>NaN</td>\n      <td>Sub</td>\n      <td>185</td>\n      <td>77</td>\n      <td>Right</td>\n      <td>47</td>\n      <td>Medium / Medium</td>\n      <td>2</td>\n      <td>...</td>\n      <td>38</td>\n      <td>51</td>\n      <td>12</td>\n      <td>13</td>\n      <td>11</td>\n      <td>16</td>\n      <td>12</td>\n      <td>11</td>\n      <td>22</td>\n      <td>12</td>\n    </tr>\n  </tbody>\n</table>\n<p>17588 rows × 39 columns</p>\n</div>"
     },
     "execution_count": 53,
     "metadata": {},
     "output_type": "execute_result"
    }
   ],
   "source": [
    "df_players = pd.read_csv('stats_players.csv')\n",
    "df_players"
   ]
  },
  {
   "cell_type": "markdown",
   "metadata": {
    "cell_id": "9e9e7d5dbc2f420ba40afb038a3c7b37",
    "deepnote_cell_height": 169.93333435058594,
    "deepnote_cell_type": "markdown",
    "id": "2R3b7Qe501t5",
    "owner_user_id": "d50c3174-babb-4861-9c71-7e3af66458b8"
   },
   "source": [
    "## 1.1 Predicción de Seleccionados Nacionales \n",
    "\n",
    "Como primera tarea, Renacín, intrigado por la posibilidad de saber qué tan reconocido es un jugador, le consulta a su equipo si es posible predecir si un jugador será o no seleccionado nacional a partir de sus estadísticas en el juego. \n",
    "\n",
    "<p align=\"center\">\n",
    "  <img src=\"https://thumbs.gfycat.com/ThornyFrankFoxhound-size_restricted.gif\" width=\"500\">\n",
    "</p>"
   ]
  },
  {
   "cell_type": "markdown",
   "metadata": {
    "cell_id": "4fd0ec6793474c6e8dd304827ef35c74",
    "deepnote_cell_height": 158.3333282470703,
    "deepnote_cell_type": "markdown",
    "id": "PIe_Ha58pQRC"
   },
   "source": [
    "### 1.1.1 Generación de Labels para la Clasificación [Sin Puntaje]\n",
    "\n",
    "\n",
    "Primero comience generando las labels para la clasificación. Para esto, trabaje sobre el atributo ```National_Position``` suponiendo que los valores nulos son jugadores no seleccionados para representar a su país. \n",
    "\n",
    "Hecho esto, ¿Cuantos ejemplos por cada clase se tienen? Comente lo que observa.\n",
    "\n"
   ]
  },
  {
   "cell_type": "markdown",
   "metadata": {
    "cell_id": "4bafb6f1da424f84be4eceb20d100d91",
    "deepnote_cell_height": 51.53334045410156,
    "deepnote_cell_type": "markdown",
    "tags": []
   },
   "source": [
    "**Respuesta:**"
   ]
  },
  {
   "cell_type": "code",
   "execution_count": 54,
   "metadata": {
    "cell_id": "c95e6cb3ab91410fb2151acbdc068908",
    "deepnote_cell_height": 80.13333129882812,
    "deepnote_cell_type": "code",
    "deepnote_to_be_reexecuted": false,
    "execution_millis": 3,
    "execution_start": 1636741171250,
    "id": "uwKaIuho4lqn",
    "source_hash": "43ce1981"
   },
   "outputs": [
    {
     "data": {
      "text/plain": "               Nationality Club_Position  Height  Weight Preffered_Foot  Age  \\\n0                 Portugal            LW     185      80          Right   32   \n1                Argentina            RW     170      72           Left   29   \n2                   Brazil            LW     174      68          Right   25   \n3                  Uruguay            ST     182      85          Right   30   \n4                  Germany            GK     193      92          Right   31   \n...                    ...           ...     ...     ...            ...  ...   \n17583  Republic of Ireland           Sub     183      82          Right   19   \n17584  Republic of Ireland           Sub     185      80          Right   19   \n17585              England           Res     173      61          Right   18   \n17586             Scotland           Sub     180      80          Right   21   \n17587              England           Sub     185      77          Right   47   \n\n             Work_Rate  Weak_foot  Skill_Moves  Ball_Control  ...  Jumping  \\\n0           High / Low          4            5            93  ...       95   \n1      Medium / Medium          4            4            95  ...       68   \n2        High / Medium          5            5            95  ...       61   \n3        High / Medium          4            4            91  ...       69   \n4      Medium / Medium          4            1            48  ...       78   \n...                ...        ...          ...           ...  ...      ...   \n17583  Medium / Medium          1            1            12  ...       56   \n17584  Medium / Medium          2            1            13  ...       53   \n17585    High / Medium          2            2            44  ...       61   \n17586  Medium / Medium          3            1            17  ...       48   \n17587  Medium / Medium          2            1            22  ...       51   \n\n       Heading  Shot_Power  Finishing  Long_Shots  Curve  Freekick_Accuracy  \\\n0           85          92         93          90     81                 76   \n1           71          85         95          88     89                 90   \n2           62          78         89          77     79                 84   \n3           77          87         94          86     86                 84   \n4           25          25         13          16     14                 11   \n...        ...         ...        ...         ...    ...                ...   \n17583       14          16         13          13     11                 13   \n17584       12          17         12          11     12                 13   \n17585       41          44         28          42     35                 36   \n17586       15          23         14          12     13                 12   \n17587       12          13         11          16     12                 11   \n\n       Penalties  Volleys        Seleccion  \n0             85       88     Seleccionado  \n1             74       85     Seleccionado  \n2             81       83     Seleccionado  \n3             85       88     Seleccionado  \n4             47       11     Seleccionado  \n...          ...      ...              ...  \n17583         15       12  No seleccionado  \n17584         16       12  No seleccionado  \n17585         42       37  No seleccionado  \n17586         24       12  No seleccionado  \n17587         22       12  No seleccionado  \n\n[17588 rows x 38 columns]",
      "text/html": "<div>\n<style scoped>\n    .dataframe tbody tr th:only-of-type {\n        vertical-align: middle;\n    }\n\n    .dataframe tbody tr th {\n        vertical-align: top;\n    }\n\n    .dataframe thead th {\n        text-align: right;\n    }\n</style>\n<table border=\"1\" class=\"dataframe\">\n  <thead>\n    <tr style=\"text-align: right;\">\n      <th></th>\n      <th>Nationality</th>\n      <th>Club_Position</th>\n      <th>Height</th>\n      <th>Weight</th>\n      <th>Preffered_Foot</th>\n      <th>Age</th>\n      <th>Work_Rate</th>\n      <th>Weak_foot</th>\n      <th>Skill_Moves</th>\n      <th>Ball_Control</th>\n      <th>...</th>\n      <th>Jumping</th>\n      <th>Heading</th>\n      <th>Shot_Power</th>\n      <th>Finishing</th>\n      <th>Long_Shots</th>\n      <th>Curve</th>\n      <th>Freekick_Accuracy</th>\n      <th>Penalties</th>\n      <th>Volleys</th>\n      <th>Seleccion</th>\n    </tr>\n  </thead>\n  <tbody>\n    <tr>\n      <th>0</th>\n      <td>Portugal</td>\n      <td>LW</td>\n      <td>185</td>\n      <td>80</td>\n      <td>Right</td>\n      <td>32</td>\n      <td>High / Low</td>\n      <td>4</td>\n      <td>5</td>\n      <td>93</td>\n      <td>...</td>\n      <td>95</td>\n      <td>85</td>\n      <td>92</td>\n      <td>93</td>\n      <td>90</td>\n      <td>81</td>\n      <td>76</td>\n      <td>85</td>\n      <td>88</td>\n      <td>Seleccionado</td>\n    </tr>\n    <tr>\n      <th>1</th>\n      <td>Argentina</td>\n      <td>RW</td>\n      <td>170</td>\n      <td>72</td>\n      <td>Left</td>\n      <td>29</td>\n      <td>Medium / Medium</td>\n      <td>4</td>\n      <td>4</td>\n      <td>95</td>\n      <td>...</td>\n      <td>68</td>\n      <td>71</td>\n      <td>85</td>\n      <td>95</td>\n      <td>88</td>\n      <td>89</td>\n      <td>90</td>\n      <td>74</td>\n      <td>85</td>\n      <td>Seleccionado</td>\n    </tr>\n    <tr>\n      <th>2</th>\n      <td>Brazil</td>\n      <td>LW</td>\n      <td>174</td>\n      <td>68</td>\n      <td>Right</td>\n      <td>25</td>\n      <td>High / Medium</td>\n      <td>5</td>\n      <td>5</td>\n      <td>95</td>\n      <td>...</td>\n      <td>61</td>\n      <td>62</td>\n      <td>78</td>\n      <td>89</td>\n      <td>77</td>\n      <td>79</td>\n      <td>84</td>\n      <td>81</td>\n      <td>83</td>\n      <td>Seleccionado</td>\n    </tr>\n    <tr>\n      <th>3</th>\n      <td>Uruguay</td>\n      <td>ST</td>\n      <td>182</td>\n      <td>85</td>\n      <td>Right</td>\n      <td>30</td>\n      <td>High / Medium</td>\n      <td>4</td>\n      <td>4</td>\n      <td>91</td>\n      <td>...</td>\n      <td>69</td>\n      <td>77</td>\n      <td>87</td>\n      <td>94</td>\n      <td>86</td>\n      <td>86</td>\n      <td>84</td>\n      <td>85</td>\n      <td>88</td>\n      <td>Seleccionado</td>\n    </tr>\n    <tr>\n      <th>4</th>\n      <td>Germany</td>\n      <td>GK</td>\n      <td>193</td>\n      <td>92</td>\n      <td>Right</td>\n      <td>31</td>\n      <td>Medium / Medium</td>\n      <td>4</td>\n      <td>1</td>\n      <td>48</td>\n      <td>...</td>\n      <td>78</td>\n      <td>25</td>\n      <td>25</td>\n      <td>13</td>\n      <td>16</td>\n      <td>14</td>\n      <td>11</td>\n      <td>47</td>\n      <td>11</td>\n      <td>Seleccionado</td>\n    </tr>\n    <tr>\n      <th>...</th>\n      <td>...</td>\n      <td>...</td>\n      <td>...</td>\n      <td>...</td>\n      <td>...</td>\n      <td>...</td>\n      <td>...</td>\n      <td>...</td>\n      <td>...</td>\n      <td>...</td>\n      <td>...</td>\n      <td>...</td>\n      <td>...</td>\n      <td>...</td>\n      <td>...</td>\n      <td>...</td>\n      <td>...</td>\n      <td>...</td>\n      <td>...</td>\n      <td>...</td>\n      <td>...</td>\n    </tr>\n    <tr>\n      <th>17583</th>\n      <td>Republic of Ireland</td>\n      <td>Sub</td>\n      <td>183</td>\n      <td>82</td>\n      <td>Right</td>\n      <td>19</td>\n      <td>Medium / Medium</td>\n      <td>1</td>\n      <td>1</td>\n      <td>12</td>\n      <td>...</td>\n      <td>56</td>\n      <td>14</td>\n      <td>16</td>\n      <td>13</td>\n      <td>13</td>\n      <td>11</td>\n      <td>13</td>\n      <td>15</td>\n      <td>12</td>\n      <td>No seleccionado</td>\n    </tr>\n    <tr>\n      <th>17584</th>\n      <td>Republic of Ireland</td>\n      <td>Sub</td>\n      <td>185</td>\n      <td>80</td>\n      <td>Right</td>\n      <td>19</td>\n      <td>Medium / Medium</td>\n      <td>2</td>\n      <td>1</td>\n      <td>13</td>\n      <td>...</td>\n      <td>53</td>\n      <td>12</td>\n      <td>17</td>\n      <td>12</td>\n      <td>11</td>\n      <td>12</td>\n      <td>13</td>\n      <td>16</td>\n      <td>12</td>\n      <td>No seleccionado</td>\n    </tr>\n    <tr>\n      <th>17585</th>\n      <td>England</td>\n      <td>Res</td>\n      <td>173</td>\n      <td>61</td>\n      <td>Right</td>\n      <td>18</td>\n      <td>High / Medium</td>\n      <td>2</td>\n      <td>2</td>\n      <td>44</td>\n      <td>...</td>\n      <td>61</td>\n      <td>41</td>\n      <td>44</td>\n      <td>28</td>\n      <td>42</td>\n      <td>35</td>\n      <td>36</td>\n      <td>42</td>\n      <td>37</td>\n      <td>No seleccionado</td>\n    </tr>\n    <tr>\n      <th>17586</th>\n      <td>Scotland</td>\n      <td>Sub</td>\n      <td>180</td>\n      <td>80</td>\n      <td>Right</td>\n      <td>21</td>\n      <td>Medium / Medium</td>\n      <td>3</td>\n      <td>1</td>\n      <td>17</td>\n      <td>...</td>\n      <td>48</td>\n      <td>15</td>\n      <td>23</td>\n      <td>14</td>\n      <td>12</td>\n      <td>13</td>\n      <td>12</td>\n      <td>24</td>\n      <td>12</td>\n      <td>No seleccionado</td>\n    </tr>\n    <tr>\n      <th>17587</th>\n      <td>England</td>\n      <td>Sub</td>\n      <td>185</td>\n      <td>77</td>\n      <td>Right</td>\n      <td>47</td>\n      <td>Medium / Medium</td>\n      <td>2</td>\n      <td>1</td>\n      <td>22</td>\n      <td>...</td>\n      <td>51</td>\n      <td>12</td>\n      <td>13</td>\n      <td>11</td>\n      <td>16</td>\n      <td>12</td>\n      <td>11</td>\n      <td>22</td>\n      <td>12</td>\n      <td>No seleccionado</td>\n    </tr>\n  </tbody>\n</table>\n<p>17588 rows × 38 columns</p>\n</div>"
     },
     "execution_count": 35,
     "metadata": {},
     "output_type": "execute_result"
    },
    {
     "data": {
      "text/plain": "               Nationality Club_Position  Height  Weight Preffered_Foot  Age  \\\n0                 Portugal            LW     185      80          Right   32   \n1                Argentina            RW     170      72           Left   29   \n2                   Brazil            LW     174      68          Right   25   \n3                  Uruguay            ST     182      85          Right   30   \n4                  Germany            GK     193      92          Right   31   \n...                    ...           ...     ...     ...            ...  ...   \n17583  Republic of Ireland           Sub     183      82          Right   19   \n17584  Republic of Ireland           Sub     185      80          Right   19   \n17585              England           Res     173      61          Right   18   \n17586             Scotland           Sub     180      80          Right   21   \n17587              England           Sub     185      77          Right   47   \n\n             Work_Rate  Weak_foot  Skill_Moves  Ball_Control  ...  Jumping  \\\n0           High / Low          4            5            93  ...       95   \n1      Medium / Medium          4            4            95  ...       68   \n2        High / Medium          5            5            95  ...       61   \n3        High / Medium          4            4            91  ...       69   \n4      Medium / Medium          4            1            48  ...       78   \n...                ...        ...          ...           ...  ...      ...   \n17583  Medium / Medium          1            1            12  ...       56   \n17584  Medium / Medium          2            1            13  ...       53   \n17585    High / Medium          2            2            44  ...       61   \n17586  Medium / Medium          3            1            17  ...       48   \n17587  Medium / Medium          2            1            22  ...       51   \n\n       Heading  Shot_Power  Finishing  Long_Shots  Curve  Freekick_Accuracy  \\\n0           85          92         93          90     81                 76   \n1           71          85         95          88     89                 90   \n2           62          78         89          77     79                 84   \n3           77          87         94          86     86                 84   \n4           25          25         13          16     14                 11   \n...        ...         ...        ...         ...    ...                ...   \n17583       14          16         13          13     11                 13   \n17584       12          17         12          11     12                 13   \n17585       41          44         28          42     35                 36   \n17586       15          23         14          12     13                 12   \n17587       12          13         11          16     12                 11   \n\n       Penalties  Volleys        Seleccion  \n0             85       88     Seleccionado  \n1             74       85     Seleccionado  \n2             81       83     Seleccionado  \n3             85       88     Seleccionado  \n4             47       11     Seleccionado  \n...          ...      ...              ...  \n17583         15       12  No seleccionado  \n17584         16       12  No seleccionado  \n17585         42       37  No seleccionado  \n17586         24       12  No seleccionado  \n17587         22       12  No seleccionado  \n\n[17588 rows x 38 columns]",
      "text/html": "<div>\n<style scoped>\n    .dataframe tbody tr th:only-of-type {\n        vertical-align: middle;\n    }\n\n    .dataframe tbody tr th {\n        vertical-align: top;\n    }\n\n    .dataframe thead th {\n        text-align: right;\n    }\n</style>\n<table border=\"1\" class=\"dataframe\">\n  <thead>\n    <tr style=\"text-align: right;\">\n      <th></th>\n      <th>Nationality</th>\n      <th>Club_Position</th>\n      <th>Height</th>\n      <th>Weight</th>\n      <th>Preffered_Foot</th>\n      <th>Age</th>\n      <th>Work_Rate</th>\n      <th>Weak_foot</th>\n      <th>Skill_Moves</th>\n      <th>Ball_Control</th>\n      <th>...</th>\n      <th>Jumping</th>\n      <th>Heading</th>\n      <th>Shot_Power</th>\n      <th>Finishing</th>\n      <th>Long_Shots</th>\n      <th>Curve</th>\n      <th>Freekick_Accuracy</th>\n      <th>Penalties</th>\n      <th>Volleys</th>\n      <th>Seleccion</th>\n    </tr>\n  </thead>\n  <tbody>\n    <tr>\n      <th>0</th>\n      <td>Portugal</td>\n      <td>LW</td>\n      <td>185</td>\n      <td>80</td>\n      <td>Right</td>\n      <td>32</td>\n      <td>High / Low</td>\n      <td>4</td>\n      <td>5</td>\n      <td>93</td>\n      <td>...</td>\n      <td>95</td>\n      <td>85</td>\n      <td>92</td>\n      <td>93</td>\n      <td>90</td>\n      <td>81</td>\n      <td>76</td>\n      <td>85</td>\n      <td>88</td>\n      <td>Seleccionado</td>\n    </tr>\n    <tr>\n      <th>1</th>\n      <td>Argentina</td>\n      <td>RW</td>\n      <td>170</td>\n      <td>72</td>\n      <td>Left</td>\n      <td>29</td>\n      <td>Medium / Medium</td>\n      <td>4</td>\n      <td>4</td>\n      <td>95</td>\n      <td>...</td>\n      <td>68</td>\n      <td>71</td>\n      <td>85</td>\n      <td>95</td>\n      <td>88</td>\n      <td>89</td>\n      <td>90</td>\n      <td>74</td>\n      <td>85</td>\n      <td>Seleccionado</td>\n    </tr>\n    <tr>\n      <th>2</th>\n      <td>Brazil</td>\n      <td>LW</td>\n      <td>174</td>\n      <td>68</td>\n      <td>Right</td>\n      <td>25</td>\n      <td>High / Medium</td>\n      <td>5</td>\n      <td>5</td>\n      <td>95</td>\n      <td>...</td>\n      <td>61</td>\n      <td>62</td>\n      <td>78</td>\n      <td>89</td>\n      <td>77</td>\n      <td>79</td>\n      <td>84</td>\n      <td>81</td>\n      <td>83</td>\n      <td>Seleccionado</td>\n    </tr>\n    <tr>\n      <th>3</th>\n      <td>Uruguay</td>\n      <td>ST</td>\n      <td>182</td>\n      <td>85</td>\n      <td>Right</td>\n      <td>30</td>\n      <td>High / Medium</td>\n      <td>4</td>\n      <td>4</td>\n      <td>91</td>\n      <td>...</td>\n      <td>69</td>\n      <td>77</td>\n      <td>87</td>\n      <td>94</td>\n      <td>86</td>\n      <td>86</td>\n      <td>84</td>\n      <td>85</td>\n      <td>88</td>\n      <td>Seleccionado</td>\n    </tr>\n    <tr>\n      <th>4</th>\n      <td>Germany</td>\n      <td>GK</td>\n      <td>193</td>\n      <td>92</td>\n      <td>Right</td>\n      <td>31</td>\n      <td>Medium / Medium</td>\n      <td>4</td>\n      <td>1</td>\n      <td>48</td>\n      <td>...</td>\n      <td>78</td>\n      <td>25</td>\n      <td>25</td>\n      <td>13</td>\n      <td>16</td>\n      <td>14</td>\n      <td>11</td>\n      <td>47</td>\n      <td>11</td>\n      <td>Seleccionado</td>\n    </tr>\n    <tr>\n      <th>...</th>\n      <td>...</td>\n      <td>...</td>\n      <td>...</td>\n      <td>...</td>\n      <td>...</td>\n      <td>...</td>\n      <td>...</td>\n      <td>...</td>\n      <td>...</td>\n      <td>...</td>\n      <td>...</td>\n      <td>...</td>\n      <td>...</td>\n      <td>...</td>\n      <td>...</td>\n      <td>...</td>\n      <td>...</td>\n      <td>...</td>\n      <td>...</td>\n      <td>...</td>\n      <td>...</td>\n    </tr>\n    <tr>\n      <th>17583</th>\n      <td>Republic of Ireland</td>\n      <td>Sub</td>\n      <td>183</td>\n      <td>82</td>\n      <td>Right</td>\n      <td>19</td>\n      <td>Medium / Medium</td>\n      <td>1</td>\n      <td>1</td>\n      <td>12</td>\n      <td>...</td>\n      <td>56</td>\n      <td>14</td>\n      <td>16</td>\n      <td>13</td>\n      <td>13</td>\n      <td>11</td>\n      <td>13</td>\n      <td>15</td>\n      <td>12</td>\n      <td>No seleccionado</td>\n    </tr>\n    <tr>\n      <th>17584</th>\n      <td>Republic of Ireland</td>\n      <td>Sub</td>\n      <td>185</td>\n      <td>80</td>\n      <td>Right</td>\n      <td>19</td>\n      <td>Medium / Medium</td>\n      <td>2</td>\n      <td>1</td>\n      <td>13</td>\n      <td>...</td>\n      <td>53</td>\n      <td>12</td>\n      <td>17</td>\n      <td>12</td>\n      <td>11</td>\n      <td>12</td>\n      <td>13</td>\n      <td>16</td>\n      <td>12</td>\n      <td>No seleccionado</td>\n    </tr>\n    <tr>\n      <th>17585</th>\n      <td>England</td>\n      <td>Res</td>\n      <td>173</td>\n      <td>61</td>\n      <td>Right</td>\n      <td>18</td>\n      <td>High / Medium</td>\n      <td>2</td>\n      <td>2</td>\n      <td>44</td>\n      <td>...</td>\n      <td>61</td>\n      <td>41</td>\n      <td>44</td>\n      <td>28</td>\n      <td>42</td>\n      <td>35</td>\n      <td>36</td>\n      <td>42</td>\n      <td>37</td>\n      <td>No seleccionado</td>\n    </tr>\n    <tr>\n      <th>17586</th>\n      <td>Scotland</td>\n      <td>Sub</td>\n      <td>180</td>\n      <td>80</td>\n      <td>Right</td>\n      <td>21</td>\n      <td>Medium / Medium</td>\n      <td>3</td>\n      <td>1</td>\n      <td>17</td>\n      <td>...</td>\n      <td>48</td>\n      <td>15</td>\n      <td>23</td>\n      <td>14</td>\n      <td>12</td>\n      <td>13</td>\n      <td>12</td>\n      <td>24</td>\n      <td>12</td>\n      <td>No seleccionado</td>\n    </tr>\n    <tr>\n      <th>17587</th>\n      <td>England</td>\n      <td>Sub</td>\n      <td>185</td>\n      <td>77</td>\n      <td>Right</td>\n      <td>47</td>\n      <td>Medium / Medium</td>\n      <td>2</td>\n      <td>1</td>\n      <td>22</td>\n      <td>...</td>\n      <td>51</td>\n      <td>12</td>\n      <td>13</td>\n      <td>11</td>\n      <td>16</td>\n      <td>12</td>\n      <td>11</td>\n      <td>22</td>\n      <td>12</td>\n      <td>No seleccionado</td>\n    </tr>\n  </tbody>\n</table>\n<p>17588 rows × 38 columns</p>\n</div>"
     },
     "execution_count": 54,
     "metadata": {},
     "output_type": "execute_result"
    }
   ],
   "source": [
    "Seleccion =[]\n",
    "for position in df_players.National_Position:\n",
    "    if type(position) != str:\n",
    "        Seleccion.append('No seleccionado')\n",
    "    else:\n",
    "        Seleccion.append('Seleccionado')\n",
    "\n",
    "df_players['Seleccion'] = Seleccion\n",
    "df_players = df_players.drop(['National_Position'], axis=1)\n",
    "df_players = df_players.drop(['Name'], axis=1)\n",
    "df_players\n"
   ]
  },
  {
   "cell_type": "markdown",
   "metadata": {
    "cell_id": "882716f31dd4415983e3ed8e403ddcf0",
    "deepnote_cell_height": 678.1500244140625,
    "deepnote_cell_type": "markdown",
    "id": "0F70XPRFpWH9"
   },
   "source": [
    "### 1.1.2 Camino a la clasificación [1 punto]\n",
    "\n",
    "<p align=\"center\">\n",
    "  <img src=\"https://c.tenor.com/SoXZJHWnhKAAAAAC/pitbull-medel.gif\" width=\"500\">\n",
    "</p>\n",
    "\n",
    "Para preprocesar el dataset, genere un `ColumnTransformer` en donde especifique las transformaciones que hay que realizar para cada columna (por ejemplo StandarScaler, MinMaxScaler, OneHotEncoder, etc...) para que puedan ser utilizadas correctamente por el modelo predictivo y guardelo en algúna variable.\n",
    "\n",
    "Luego, comente y justifique las transformaciones elegidas sobre cada una de las variables (para esto utilice el material ```Player_Stats_Report.html``` que viene en el zip del lab), al igual que las transformaciones aplicadas.\n",
    "\n",
    "Hecho lo anterior, **defina al menos 3 pipelines para la clasificación**, en donde utilice el mismo ColumnTransformer definido anteriormente, pero que varie entre cada pipeline los clasificadores. \n",
    "\n",
    "Para seleccionar los clasificadores más adecuados, utilice la siguiente guía:\n",
    "\n",
    "<p align=\"center\">\n",
    "  <img src=\"https://scikit-learn.org/stable/_static/ml_map.png\" width=\"500\">\n",
    "</p>\n",
    "\n",
    "<br/>\n",
    "\n",
    "Con ella, comente y justifique cada una de las decisiones tomadas al momento de desarrollar su pipeline.\n",
    "\n",
    "**Nota:** Si tiene problemas al utilizar OneHotEncoder puede utilizar el parámetro handle_unknown='ignore'. Esto hace que en la codificación se omitan las categorias que no aparecen en el entrenamiento. Pregunta dudosa (no tiene puntaje), ¿esto tiene sentido a nivel de modelos?.\n",
    "\n",
    "**To-Do:**\n",
    "\n",
    "- [X] Genere un ```ColumnTransformer``` enfocado en preprocesar los datos.\n",
    "- [X] Indicar y Justificar que preprocesamiento utiliza sobre cada columna.\n",
    "- [X] Crear 3 ``pipelines`` con diferentes clasificadores.\n",
    "- [X] Para seleccionar los clasificadores base sus decisiones en la siguiente [guía](https://scikit-learn.org/stable/tutorial/machine_learning_map/index.html)\n",
    "- [X] No entrenar los ``pipelines`` aún.\n",
    "\n",
    "**Nota:** No es necesario entrenar los clasificadores aún."
   ]
  },
  {
   "cell_type": "code",
   "execution_count": 55,
   "metadata": {
    "cell_id": "9613cb3a57754abc878dab6589262090",
    "deepnote_cell_height": 65.13333129882812,
    "deepnote_cell_type": "code",
    "tags": []
   },
   "outputs": [],
   "source": [
    "#Librerias para esta parte\n",
    "from sklearn.preprocessing import OneHotEncoder\n",
    "from sklearn.preprocessing import StandardScaler\n",
    "from sklearn.preprocessing import OrdinalEncoder\n",
    "\n",
    "#Seleccionamos las variables numericas\n",
    "numericas = df_players.select_dtypes(include=['int64','float64']).columns\n",
    "#Ahora la pasamos a formato lista\n",
    "numericas = list(numericas)\n",
    "st = StandardScaler()\n",
    "\n",
    "#Seleccionamos las variables categoricas\n",
    "categoricas = df_players.select_dtypes(include=['object']).columns\n",
    "#Ahora la pasamos a formato lista\n",
    "categoricas = list(categoricas)\n",
    "ohe = OneHotEncoder(sparse=False, handle_unknown=\"ignore\")\n",
    "\n",
    "#Eliminamos la variable Work_Rate\n",
    "categoricas.remove('Work_Rate')\n",
    "categoricas.remove('Seleccion')\n",
    "\n",
    "#Seleccionamos las variable ordinales\n",
    "ordinales = ['Work_Rate', 'Weak_foot', 'Skill_Moves'] \n",
    "etiquetas = [[\"Low / Low\",\"Low / Medium\",\"Low / High\", \"Medium / Low\",\"Medium / Medium\",\"Medium / High\",\"High / Low\",\"High / Medium\",\"High / High\"],[1,2,3,4,5],[1,2,3,4,5]]\n",
    "oe = OrdinalEncoder(categories=etiquetas)\n",
    "    \n",
    "#Finalmente creamos el preprocesador, que es un objeto de la clase ColumnTransformer, el aplicara standarizacion a las variables numericas,  OneHotEncoding a las categoricas y\n",
    "#OrdinalEncoding a las ordinales\n",
    "preprocesador = ColumnTransformer([('numericas', st, numericas), ('categoricas', ohe, categoricas), ('ordinales', oe, ordinales)])\n",
    "    \n",
    "\n"
   ]
  },
  {
   "cell_type": "markdown",
   "metadata": {
    "cell_id": "494effcc7471436084ebd22e15296fb9",
    "deepnote_cell_height": 51.53334045410156,
    "deepnote_cell_type": "markdown",
    "tags": []
   },
   "source": [
    "**Respuesta:**"
   ]
  },
  {
   "cell_type": "code",
   "execution_count": 56,
   "metadata": {
    "cell_id": "3405035b85c6475594991b29a465a506",
    "deepnote_cell_height": 65.13333129882812,
    "deepnote_cell_type": "code",
    "tags": []
   },
   "outputs": [],
   "source": [
    "#Segun lo visto en la guia de Scikit-Learn, los modelos que deberiamos utilizar son los siguientes: SVM, KNN y emsamble classifiers, en este caso utilizaremos Random Forest.\n",
    "#Librerias para esta parte\n",
    "from sklearn.ensemble import RandomForestClassifier\n",
    "from sklearn.svm import SVC\n",
    "from sklearn.neighbors import KNeighborsClassifier\n",
    "\n",
    "#Ahora creamos los Pipelines para cada uno de los modelos que vamos a utilizar\n",
    "model_forest = Pipeline([('preprocesador', preprocesador), ('modelo', RandomForestClassifier())])\n",
    "model_svm = Pipeline([('preprocesador', preprocesador), ('modelo', SVC( kernel='linear'))])\n",
    "model_knn = Pipeline([('preprocesador', preprocesador), ('modelo', KNeighborsClassifier())])\n",
    "\n",
    "#No se entrenan aun:c\n"
   ]
  },
  {
   "cell_type": "markdown",
   "metadata": {
    "cell_id": "b7fa6937d9a043fd93b7966fb0e81861",
    "deepnote_cell_height": 101.13333129882812,
    "deepnote_cell_type": "markdown",
    "id": "MpKq6oO3vCNL"
   },
   "source": [
    "### 1.1.3 Entrenemos los pipelines [1 punto]\n",
    "\n",
    "<p align=\"center\">\n",
    "  <img src=\"https://i.gifer.com/7Cc8.gif\" width=\"350\">\n",
    "</p>\n"
   ]
  },
  {
   "cell_type": "markdown",
   "metadata": {
    "cell_id": "5ead21d7e26d4e3da1486c9937f22968",
    "deepnote_cell_height": 454.433349609375,
    "deepnote_cell_type": "markdown",
    "id": "wE_1aZaIvOeN"
   },
   "source": [
    "Ahora, entrene los `pipeline` generados en los pasos anteriores. Para esto, primero separe los datos de entrenamiento en un conjunto de entrenamiento y de prueba  (la proporción queda a su juicio).\n",
    "\n",
    "En este paso, seleccione los ejemplos de forma aleatoria e intente mantener la distribución original de labels de cada clase en los conjuntos de prueba/entrenamiento. (vea la documentación de `train_test_split`).\n",
    "\n",
    "\n",
    "Luego, entrene los pipelines\n",
    "\n",
    "Una vez entrenado su modelo, evalue su rendimiento a través de diferentes métricas, comentando que significa cada uno de los valores obtenidos. Puede usar la función `classification_report` para corroborar sus resultados.\n",
    "\n",
    "- ¿Qué implican los valores de accuracy, precisión y recall de la clase positiva (la que indica que un jugador es seleccionado nacional)?\n",
    "- ¿Podrían mejorarse los resultados?, ¿Cómo?\n",
    "- ¿Influye la cantidad de ejemplos por clase?\n",
    "\n",
    "**To-Do**:\n",
    "\n",
    "- [X] Separar el conjunto de datos en entrenamiento y de prueba.\n",
    "- [X] Entrenar los `pipelines`.\n",
    "- [X] Utilizar las métricas para evaluar los modelos generados.\n"
   ]
  },
  {
   "cell_type": "markdown",
   "metadata": {
    "cell_id": "053a95315e3245b39ba9d263d932e7d4",
    "deepnote_cell_height": 51.53334045410156,
    "deepnote_cell_type": "markdown",
    "tags": []
   },
   "source": [
    "**Respuesta:**"
   ]
  },
  {
   "cell_type": "code",
   "execution_count": 57,
   "metadata": {
    "cell_id": "0148b8e4a7e24b838381dbee30b31758",
    "deepnote_cell_height": 65.13333129882812,
    "deepnote_cell_type": "code",
    "tags": []
   },
   "outputs": [],
   "source": [
    "# Importamos las librerias necesarias para el entrenamiento y las metricas de desempeño\n",
    "from sklearn.model_selection import train_test_split\n",
    "from sklearn.metrics import classification_report\n",
    "#Creamos los conjuntos de entrenamiento y prueba con un 33% para el conjunto de prueba\n",
    "X = df_players.drop(columns = ['Seleccion'], axis=1)\n",
    "y = df_players['Seleccion']\n",
    "X_train, X_test, y_train, y_test = train_test_split(X, y, test_size=0.33, shuffle=True, random_state=42, stratify = y )\n"
   ]
  },
  {
   "cell_type": "code",
   "execution_count": 58,
   "metadata": {},
   "outputs": [
    {
     "data": {
      "text/plain": "0           Seleccionado\n1           Seleccionado\n2           Seleccionado\n3           Seleccionado\n4           Seleccionado\n              ...       \n17583    No seleccionado\n17584    No seleccionado\n17585    No seleccionado\n17586    No seleccionado\n17587    No seleccionado\nName: Seleccion, Length: 17588, dtype: object"
     },
     "execution_count": 39,
     "metadata": {},
     "output_type": "execute_result"
    },
    {
     "data": {
      "text/plain": "0           Seleccionado\n1           Seleccionado\n2           Seleccionado\n3           Seleccionado\n4           Seleccionado\n              ...       \n17583    No seleccionado\n17584    No seleccionado\n17585    No seleccionado\n17586    No seleccionado\n17587    No seleccionado\nName: Seleccion, Length: 17588, dtype: object"
     },
     "execution_count": 58,
     "metadata": {},
     "output_type": "execute_result"
    }
   ],
   "source": [
    "df_players['Seleccion']"
   ]
  },
  {
   "cell_type": "code",
   "execution_count": 59,
   "metadata": {},
   "outputs": [
    {
     "name": "stdout",
     "output_type": "stream",
     "text": [
      "                 precision    recall  f1-score   support\n",
      "\n",
      "No seleccionado       0.94      1.00      0.97      5450\n",
      "   Seleccionado       0.70      0.09      0.16       355\n",
      "\n",
      "       accuracy                           0.94      5805\n",
      "      macro avg       0.82      0.54      0.56      5805\n",
      "   weighted avg       0.93      0.94      0.92      5805\n",
      "\n",
      "                 precision    recall  f1-score   support\n",
      "\n",
      "No seleccionado       0.94      1.00      0.97      5450\n",
      "   Seleccionado       0.61      0.09      0.15       355\n",
      "\n",
      "       accuracy                           0.94      5805\n",
      "      macro avg       0.78      0.54      0.56      5805\n",
      "   weighted avg       0.92      0.94      0.92      5805\n",
      "\n"
     ]
    }
   ],
   "source": [
    "#Ahora entrenamos los modelos, partiremos con el Random Forest\n",
    "model_forest.fit(X_train, y_train)\n",
    "#Veamos sus resultados\n",
    "y_pred = model_forest.predict(X_test)\n",
    "print(classification_report(y_test, y_pred))"
   ]
  },
  {
   "cell_type": "code",
   "execution_count": 60,
   "metadata": {},
   "outputs": [
    {
     "name": "stdout",
     "output_type": "stream",
     "text": [
      "                 precision    recall  f1-score   support\n",
      "\n",
      "No seleccionado       0.95      0.99      0.97      5450\n",
      "   Seleccionado       0.64      0.17      0.27       355\n",
      "\n",
      "       accuracy                           0.94      5805\n",
      "      macro avg       0.79      0.58      0.62      5805\n",
      "   weighted avg       0.93      0.94      0.93      5805\n",
      "\n",
      "                 precision    recall  f1-score   support\n",
      "\n",
      "No seleccionado       0.95      0.99      0.97      5450\n",
      "   Seleccionado       0.64      0.17      0.27       355\n",
      "\n",
      "       accuracy                           0.94      5805\n",
      "      macro avg       0.79      0.58      0.62      5805\n",
      "   weighted avg       0.93      0.94      0.93      5805\n",
      "\n"
     ]
    }
   ],
   "source": [
    "#Ahora veamos el desempeño del SVM\n",
    "model_svm.fit(X_train, y_train)\n",
    "#Veamos sus resultados\n",
    "y_pred = model_svm.predict(X_test)\n",
    "print(classification_report(y_test, y_pred))\n"
   ]
  },
  {
   "cell_type": "code",
   "execution_count": 61,
   "metadata": {},
   "outputs": [
    {
     "name": "stdout",
     "output_type": "stream",
     "text": [
      "                 precision    recall  f1-score   support\n",
      "\n",
      "No seleccionado       0.94      1.00      0.97      5450\n",
      "   Seleccionado       0.46      0.05      0.10       355\n",
      "\n",
      "       accuracy                           0.94      5805\n",
      "      macro avg       0.70      0.52      0.53      5805\n",
      "   weighted avg       0.91      0.94      0.91      5805\n",
      "\n",
      "                 precision    recall  f1-score   support\n",
      "\n",
      "No seleccionado       0.94      1.00      0.97      5450\n",
      "   Seleccionado       0.46      0.05      0.10       355\n",
      "\n",
      "       accuracy                           0.94      5805\n",
      "      macro avg       0.70      0.52      0.53      5805\n",
      "   weighted avg       0.91      0.94      0.91      5805\n",
      "\n"
     ]
    }
   ],
   "source": [
    "#Ahora veamos el desempeño del KNN\n",
    "model_knn.fit(X_train, y_train)\n",
    "#Veamos sus resultados\n",
    "y_pred = model_knn.predict(X_test)\n",
    "print(classification_report(y_test, y_pred))\n"
   ]
  },
  {
   "cell_type": "markdown",
   "metadata": {
    "cell_id": "2e9c35fbe33d4a38bfdf6af6de3022f3",
    "deepnote_cell_height": 106.33332824707031,
    "deepnote_cell_type": "markdown",
    "id": "QgSeo0aIx9ow"
   },
   "source": [
    "**Respuesta**:\n",
    "\n",
    "```\n",
    "Podemos ver que para todos los modelos obtuvimos un desempeño muy bueno en la clasificacion de los jugadores que no fueron seleccionados, pero no tan bueno para los jugadores que si fueron seleccionados, esto se debe a que la cantidad de jugadores que no fueron seleccionados es mucho mayor que la cantidad de jugadores que si lo fueron. Este problema podria ser resuelto con algun modelo que considerara este desbalance en los datos o realizando un oversampling con alguna tecnica. Hay que considerar que para este caso si solo usaramos el accuracy como metrica estariamos muy sesgados, puesto que por este desbalance si el modelo arrajara que todos los jugadores son No seleccionados se obtendria un accuracy muy alto, lo cual no tiene sentido, puesto que en realidad no esta clasificando.\n",
    "```"
   ]
  },
  {
   "cell_type": "markdown",
   "metadata": {
    "cell_id": "5aa0cc14dba04749ad3bc07a92d351d2",
    "deepnote_cell_type": "markdown",
    "id": "ix97Ho4uOARH"
   },
   "source": [
    "## 1.2 Predicción de posiciones de jugadores [2 puntos]\n",
    "\n",
    "<p align=\"center\">\n",
    "  <img src=\"https://pbs.twimg.com/media/E1rfA1aWEAYU6Ny.jpg\" width=\"500\">\n",
    "</p>"
   ]
  },
  {
   "cell_type": "markdown",
   "metadata": {
    "cell_id": "6cd2eee12b6147bc8eba66af43a1f1f7",
    "deepnote_cell_type": "markdown",
    "id": "oHAwZfV8hMsk"
   },
   "source": [
    "En una nueva jornada de desmesuradas transacciones deportivas, Renacín escuchó a sus colegas discutir acerca de que el precio de cada jugador depende en gran medida de la posición en la cancha en la que juega. Y además, que hay bastantes jugadores nuevos que no tienen muy claro en que posición verdaderamente brillarían, por lo que actualmente puede que actualmente estén jugando en posiciones sub-optimas. \n",
    "\n",
    "Viendo que los resultados del primer análisis no son tan esperanzadores, el corporeo los comanda a cambiar su tarea: ahora, les solicita que construyan un clasificador enfocado en predecir la mejor posición de los jugadores en la cancha según sus características. \n",
    "\n",
    "Para lograr esto, primero, les pide que etiqueten de la siguiente manera los valores que aparecen en el atributo ```Club_Position```, pidiendo que agrupen los valores en los siguientes grupos:\n",
    "\n",
    "**Nota**:  Renacín les recalca que **no deben utilizar los valores ```Sub``` y ```Res``` de esta columna**.\n",
    "\n",
    "```python\n",
    "ataque = ['ST', 'CF'] \n",
    "central_ataque = ['RW', 'CAM', 'LW'] \n",
    "central = ['RM', 'CM', 'LM'] \n",
    "central_defensa = ['RWB', 'CDM', 'LWB']\n",
    "defensa = ['RB', 'CB', 'LB']\n",
    "arquero = ['GK']\n",
    "```\n",
    "\n",
    "Cabe señalar que al igual como lo realizado con la clasificación binaria, deberá justificar en base a la [guía](https://scikit-learn.org/stable/tutorial/machine_learning_map/index.html) la elección del clasificador y se deben comentar los resultados obtenidos en la clasificación.\n",
    "\n",
    "**Nota:** Clasifique solamente con las clases señaladas, si observa mas clases eliminelas de la clasficación.\n",
    "\n",
    "**To-Do**:\n",
    "\n",
    "- [ ] Aplique las etiquetas descritas anteriormente en cada uno de los valores señalados en esta sección.\n",
    "- [ ] Cuente cuantos por clase quedan.\n",
    "- [ ] Entrene el nuevo pipeline y ejecute una evaluación de este.  \n",
    "- [ ] Comente los resultados obtenidos."
   ]
  },
  {
   "cell_type": "markdown",
   "metadata": {
    "cell_id": "71cd4b2ee5a74b96aa2dd4e1da166655",
    "deepnote_cell_type": "markdown",
    "tags": []
   },
   "source": [
    "**Respuesta:**"
   ]
  },
  {
   "cell_type": "code",
   "execution_count": 62,
   "outputs": [],
   "source": [
    "#Aplique las etiquetas descritas anteriormente en cada uno de los valores señalados en esta sección.\n",
    "\n",
    "ataque = ['ST', 'CF']\n",
    "central_ataque = ['RW', 'CAM', 'LW']\n",
    "central = ['RM', 'CM', 'LM']\n",
    "central_defensa = ['RWB', 'CDM', 'LWB']\n",
    "defensa = ['RB', 'CB', 'LB']\n",
    "arquero = ['GK']\n",
    "\n",
    "dict_posiciones = {'ataque':ataque,'central_ataque':central_ataque,'central':central,\n",
    "                    'central_defensa':central_defensa,'defensa':defensa,'arquero':arquero}\n",
    "\n",
    "\n",
    "def posicion(string):\n",
    "    global dict_posiciones\n",
    "    n = len(dict_posiciones)\n",
    "    answer = 0\n",
    "    for k in range(n):\n",
    "        if string in list(dict_posiciones.values())[k]:\n",
    "            answer = list(dict_posiciones.keys())[k]\n",
    "    if answer == 0:\n",
    "        return 'Sin Posición'\n",
    "    else:\n",
    "        return answer\n",
    "\n",
    "df_players['Posicion'] = df_players.Club_Position.apply(posicion)"
   ],
   "metadata": {
    "collapsed": false
   }
  },
  {
   "cell_type": "code",
   "execution_count": 63,
   "metadata": {
    "cell_id": "e54c0311c11e47cf917f4c7ec61370bc",
    "deepnote_cell_type": "code",
    "tags": []
   },
   "outputs": [
    {
     "name": "stdout",
     "output_type": "stream",
     "text": [
      "defensa            1180\n",
      "central             907\n",
      "arquero             632\n",
      "central_ataque      581\n",
      "ataque              430\n",
      "central_defensa     209\n",
      "Name: Posicion, dtype: int64\n"
     ]
    },
    {
     "data": {
      "text/plain": "<AxesSubplot:>"
     },
     "execution_count": 44,
     "metadata": {},
     "output_type": "execute_result"
    },
    {
     "data": {
      "text/plain": "<Figure size 432x288 with 1 Axes>",
      "image/png": "[encoded data removed]"
     },
     "metadata": {
      "needs_background": "light"
     },
     "output_type": "display_data"
    },
    {
     "name": "stdout",
     "output_type": "stream",
     "text": [
      "defensa            1180\n",
      "central             907\n",
      "arquero             632\n",
      "central_ataque      581\n",
      "ataque              430\n",
      "central_defensa     209\n",
      "Name: Posicion, dtype: int64\n"
     ]
    },
    {
     "data": {
      "text/plain": "<AxesSubplot:>"
     },
     "execution_count": 63,
     "metadata": {},
     "output_type": "execute_result"
    },
    {
     "data": {
      "text/plain": "<Figure size 432x288 with 1 Axes>",
      "image/png": "[encoded data removed]"
     },
     "metadata": {
      "needs_background": "light"
     },
     "output_type": "display_data"
    }
   ],
   "source": [
    "#Cuente cuantos por clase quedan.\n",
    "\n",
    "print(df_players[df_players.Posicion != 'Sin Posición'].Posicion.value_counts())\n",
    "df_players[df_players.Posicion != 'Sin Posición'].Posicion.hist()"
   ]
  },
  {
   "cell_type": "code",
   "execution_count": 64,
   "outputs": [
    {
     "name": "stdout",
     "output_type": "stream",
     "text": [
      "##################################################\n",
      "\n",
      "Resultados modelo Random Forest\n",
      "\n",
      "                 precision    recall  f1-score   support\n",
      "\n",
      "        arquero       1.00      1.00      1.00       210\n",
      "         ataque       1.00      0.99      0.99       143\n",
      "        central       0.98      1.00      0.99       302\n",
      " central_ataque       0.99      0.99      0.99       194\n",
      "central_defensa       1.00      0.89      0.94        70\n",
      "        defensa       0.98      0.99      0.98       393\n",
      "\n",
      "       accuracy                           0.99      1312\n",
      "      macro avg       0.99      0.98      0.98      1312\n",
      "   weighted avg       0.99      0.99      0.99      1312\n",
      "\n",
      "##################################################\n",
      "\n",
      "\n",
      "\n",
      "##################################################\n",
      "\n",
      "Resultados modelo SVC\n",
      "\n",
      "                 precision    recall  f1-score   support\n",
      "\n",
      "        arquero       1.00      1.00      1.00       210\n",
      "         ataque       1.00      1.00      1.00       143\n",
      "        central       1.00      1.00      1.00       302\n",
      " central_ataque       1.00      1.00      1.00       194\n",
      "central_defensa       1.00      1.00      1.00        70\n",
      "        defensa       1.00      1.00      1.00       393\n",
      "\n",
      "       accuracy                           1.00      1312\n",
      "      macro avg       1.00      1.00      1.00      1312\n",
      "   weighted avg       1.00      1.00      1.00      1312\n",
      "\n",
      "##################################################\n",
      "\n",
      "\n",
      "\n",
      "##################################################\n",
      "\n",
      "Resultados modelo KNN\n",
      "\n",
      "                 precision    recall  f1-score   support\n",
      "\n",
      "        arquero       1.00      1.00      1.00       210\n",
      "         ataque       0.77      0.94      0.85       143\n",
      "        central       0.70      0.77      0.73       302\n",
      " central_ataque       0.80      0.47      0.60       194\n",
      "central_defensa       0.72      0.33      0.45        70\n",
      "        defensa       0.82      0.94      0.87       393\n",
      "\n",
      "       accuracy                           0.81      1312\n",
      "      macro avg       0.80      0.74      0.75      1312\n",
      "   weighted avg       0.81      0.81      0.79      1312\n",
      "\n",
      "##################################################\n",
      "\n",
      "\n",
      "\n",
      "##################################################\n",
      "\n",
      "Resultados modelo Random Forest\n",
      "\n",
      "                 precision    recall  f1-score   support\n",
      "\n",
      "        arquero       1.00      1.00      1.00       210\n",
      "         ataque       1.00      0.99      0.99       143\n",
      "        central       0.98      1.00      0.99       302\n",
      " central_ataque       1.00      0.99      1.00       194\n",
      "central_defensa       1.00      0.91      0.96        70\n",
      "        defensa       0.98      0.99      0.99       393\n",
      "\n",
      "       accuracy                           0.99      1312\n",
      "      macro avg       0.99      0.98      0.99      1312\n",
      "   weighted avg       0.99      0.99      0.99      1312\n",
      "\n",
      "##################################################\n",
      "\n",
      "\n",
      "\n",
      "##################################################\n",
      "\n",
      "Resultados modelo SVC\n",
      "\n",
      "                 precision    recall  f1-score   support\n",
      "\n",
      "        arquero       1.00      1.00      1.00       210\n",
      "         ataque       1.00      1.00      1.00       143\n",
      "        central       1.00      1.00      1.00       302\n",
      " central_ataque       1.00      1.00      1.00       194\n",
      "central_defensa       1.00      1.00      1.00        70\n",
      "        defensa       1.00      1.00      1.00       393\n",
      "\n",
      "       accuracy                           1.00      1312\n",
      "      macro avg       1.00      1.00      1.00      1312\n",
      "   weighted avg       1.00      1.00      1.00      1312\n",
      "\n",
      "##################################################\n",
      "\n",
      "\n",
      "\n",
      "##################################################\n",
      "\n",
      "Resultados modelo KNN\n",
      "\n",
      "                 precision    recall  f1-score   support\n",
      "\n",
      "        arquero       1.00      1.00      1.00       210\n",
      "         ataque       0.77      0.94      0.85       143\n",
      "        central       0.70      0.77      0.73       302\n",
      " central_ataque       0.80      0.47      0.60       194\n",
      "central_defensa       0.72      0.33      0.45        70\n",
      "        defensa       0.82      0.94      0.87       393\n",
      "\n",
      "       accuracy                           0.81      1312\n",
      "      macro avg       0.80      0.74      0.75      1312\n",
      "   weighted avg       0.81      0.81      0.79      1312\n",
      "\n",
      "##################################################\n",
      "\n",
      "\n",
      "\n"
     ]
    }
   ],
   "source": [
    "#Entrene el nuevo pipeline y ejecute una evaluación de este.\n",
    "\n",
    "#Notemos que según los pasos indicados en la imagen de la librería ScikitLearn los modelos a utilizar\n",
    "#deben ser los mismos.\n",
    "\n",
    "df_pos = df_players.copy()\n",
    "df_pos = df_pos[df_pos.Posicion != 'Sin Posición']\n",
    "df_pos = df_pos.drop('Seleccion',axis = 1)\n",
    "\n",
    "num = df_pos.select_dtypes(include=['int64','float64']).columns.to_list()\n",
    "cat = df_pos.select_dtypes(include=['object']).columns.to_list()\n",
    "cat.remove('Work_Rate')\n",
    "cat.remove('Posicion')\n",
    "\n",
    "list_preprocess = [('numericas', st, num), ('categoricas', ohe, cat), ('ordinales', oe, ordinales)]\n",
    "preprocess = ColumnTransformer(list_preprocess)\n",
    "\n",
    "model_forest_2 = Pipeline([('preprocesador', preprocess), ('modelo', RandomForestClassifier())])\n",
    "model_svm_2 = Pipeline([('preprocesador', preprocess), ('modelo', SVC( kernel='linear'))])\n",
    "model_knn_2 = Pipeline([('preprocesador', preprocess), ('modelo', KNeighborsClassifier())])\n",
    "\n",
    "modelos = [model_forest_2,model_svm_2,model_knn_2]\n",
    "models_names = ['Random Forest','SVC','KNN']\n",
    "\n",
    "X_2 = df_pos.drop(columns = ['Posicion'], axis=1)\n",
    "y_2 = df_pos['Posicion']\n",
    "X_train_2, X_test_2, y_train_2, y_test_2 = train_test_split(X_2, y_2, test_size=0.333,\n",
    "                                                            shuffle=True, random_state=30, stratify = y_2)\n",
    "\n",
    "for n_modelo,modelo in zip(models_names,modelos):\n",
    "    modelo.fit(X_train_2,y_train_2)\n",
    "    y_predict_2 = modelo.predict(X_test_2)\n",
    "    print(\"#\"*50)\n",
    "    print(\"\\nResultados modelo \"+n_modelo+\"\\n\")\n",
    "    print(classification_report(y_test_2, y_predict_2))\n",
    "    print(\"#\"*50+\"\\n\\n\\n\")"
   ],
   "metadata": {
    "collapsed": false
   }
  },
  {
   "cell_type": "markdown",
   "metadata": {
    "cell_id": "bea1283d202545a7a1008e29ee53e044",
    "deepnote_cell_type": "markdown",
    "tags": []
   },
   "source": [
    "**Respuesta**:\n",
    "\n",
    "\n",
    "Los resultados son ~~sospechosamente~~ muy buenos. Siendo el mejor el modelo de Máquina de Soporte Vectorial (SVC). Notamos que en este caso las categorías generadas están mucho más balanceadas que las generadas en el punto 1.1 lo que hace mucho más fácil para los modelos extraer la información necesaria para generar buenas predicciones.\n"
   ]
  },
  {
   "cell_type": "markdown",
   "metadata": {
    "cell_id": "f8008fda06be4d8ab7564d7362151a14",
    "deepnote_cell_type": "markdown",
    "id": "C-vkB4xoOGtM"
   },
   "source": [
    "## 1.3 Predicción de Sueldos [2 puntos]\n",
    "\n",
    "<p align=\"center\">\n",
    "  <img src=\"https://media.giphy.com/media/3oEjHWtHAFcOKS4iA0/giphy.gif\" width=\"460\">\n",
    "</p>"
   ]
  },
  {
   "cell_type": "markdown",
   "metadata": {
    "cell_id": "598c8a91d80c412091470f396af54b5f",
    "deepnote_cell_type": "markdown",
    "tags": []
   },
   "source": [
    "Queriendo ahondar aún más en el mercado del balompíe, Renacin, logra obtener (de una manera no muy formal) los sueldos de múltiples futbolistas y los guarda en el archivo ```sueldos.csv```. Con ellos les solicita que generen un regresor que les permita predecir el sueldo de los futbolistas en base a las características de los pichichis, esto, debido a su motivación por invertir y/o realizar especulación sobre los sueldos de jugadores.\n",
    "\n",
    "Renacin es claro señalando que deben seguir utilizando la [guía](https://scikit-learn.org/stable/tutorial/machine_learning_map/index.html) y comenten cada uno de los pasos realizados, para obtener su regresión lineal. Señalándoles que no aceptara un $R^2$ inferior a 0.35 para el modelo solicitado.\n",
    "\n",
    "Para esta parte usted tiene total libertad en la generación del regresor, la unica exigencia es que utilice un pipeline para generar la regresión y utilice la metrica $R^2$ para medir el rendimiento de esta.\n",
    "\n",
    "**To-Do**:\n",
    "\n",
    "- [X] Explique en que consiste la métrica $R^2$\n",
    "- [X] Generar un pipeline para la regresión.\n",
    "- [X] Obtener un regresor con un $R^2$ superior a  $0.35$.\n",
    "- [X] Comente sus resultados y si es posible mejorar los resultados obtenidos. ¿Se necesitarían más datos o otros tipos de características o una combinación de ambos?"
   ]
  },
  {
   "cell_type": "markdown",
   "metadata": {
    "cell_id": "5ce70aab37cb4924b1543eeab84e7de4",
    "deepnote_cell_type": "markdown",
    "tags": []
   },
   "source": [
    "**Respuesta**"
   ]
  },
  {
   "cell_type": "markdown",
   "source": [
    "Explique en que consiste la métrica $R^2$\n",
    "\n",
    "Respuesta:\n",
    "\n",
    "La métrica $R^2$, conocida como el coeficiente de determinación, es un 'score' que busca medir la bondad de ajuste de un modelo de regresión, entregando valor 1 en el caso de una regresión perfecta y entregando valor 0 cuando (en el caso de una variable a regresionar y no-constante) se genera una predicción constante igual al promedio de la variable explicativa. Cabe destacar que esta métrica puede tener valores negativos cuando se trata de una \"muy mala\" predicción.\n",
    "\n",
    "La fórmula general de esta métrica, que es típicamente utilizada en modelos de regresión lineal es:\n",
    "\n",
    "$$ R^{2} = \\frac{\\sigma^{2}_{y true,y pred}}{\\sigma^{2}_{y true}\\sigma^{2}_{y pred}}  $$\n",
    "\n",
    "Donde $\\sigma^{2}_{y true,y pred}$ es la covarianza entre y_true e y_pred\n",
    "\n",
    "y donde $\\sigma^{2}_{y true}$, $\\sigma^{2}_{y pred}$ son las varianzas de y_true e y_pred respectivamente."
   ],
   "metadata": {
    "collapsed": false
   }
  },
  {
   "cell_type": "code",
   "execution_count": 65,
   "metadata": {
    "cell_id": "96e8db5c5a7044b79966da981618c807",
    "deepnote_cell_type": "code",
    "tags": []
   },
   "outputs": [],
   "source": [
    "df_sueldos = pd.read_csv('sueldos.csv')\n",
    "df_players = pd.read_csv('stats_players.csv')\n",
    "#Ahora haremos un merge entre estos dataframes en las variables Name y Player\n",
    "df = pd.merge(df_players, df_sueldos, left_on='Name', right_on='Player')\n",
    "#Eliminamos variables que no nos sirven\n",
    "df = df.drop(['Name', 'Player'], axis=1)"
   ]
  },
  {
   "cell_type": "code",
   "execution_count": 66,
   "metadata": {},
   "outputs": [],
   "source": [
    "#Ahora generamos un Pipeline para preprocesar los datos y un Pipeline para el modelo\n",
    "from sklearn.ensemble import RandomForestRegressor\n",
    "from sklearn import linear_model\n",
    "from sklearn.metrics import r2_score\n",
    "#Ahora creamos los Pipelines para cada uno de los modelos que vamos a utilizar usando el preprocesador que creamos anteriormente\n",
    "model_forest = Pipeline([('preprocesador', preprocesador), ('modelo', RandomForestRegressor())])\n",
    "model_linear = Pipeline([('preprocesador', preprocesador), ('modelo', linear_model.LinearRegression())])"
   ]
  },
  {
   "cell_type": "code",
   "execution_count": 67,
   "metadata": {},
   "outputs": [],
   "source": [
    "#Ahora creamos los conjuntos de entrenamiento y prueba con un 33% para el conjunto de prueba\n",
    "X = df.drop(columns = ['Weekly Salary'], axis=1)\n",
    "y = df['Weekly Salary']\n",
    "X_train, X_test, y_train, y_test = train_test_split(X, y, test_size=0.33, random_state=42)"
   ]
  },
  {
   "cell_type": "code",
   "execution_count": 68,
   "metadata": {},
   "outputs": [
    {
     "name": "stdout",
     "output_type": "stream",
     "text": [
      "R2:  0.4365719067319507\n",
      "R2:  0.4338860802020237\n"
     ]
    }
   ],
   "source": [
    "#Ahora entrenamos el modelo de Random Forest\n",
    "model_forest.fit(X_train, y_train)\n",
    "#Evaluamos el modelo\n",
    "y_pred = model_forest.predict(X_test)\n",
    "print('R2: ', r2_score(y_test, y_pred))"
   ]
  },
  {
   "cell_type": "markdown",
   "metadata": {
    "cell_id": "bb39f9e88bf04d639ea5d67732450be6",
    "deepnote_cell_type": "markdown",
    "tags": []
   },
   "source": [
    "**Respuesta**:\n",
    "\n",
    "```\n",
    "Claramente se pueden mejorar estos resultados, se podrian crear nuevas variables y realizar una limpieza mucho mas detallada de los datos, ademas si hubieramos realizado un mejor EDA posiblemente podriamos haber encontrado cosas interesantes para el modelo, ademas no se modificaron los hiperparametros, por lo cual si hubieramos seleccionado mejor estos podriamos haber obtenido resultados mucho mejores.\n",
    "```"
   ]
  },
  {
   "cell_type": "markdown",
   "metadata": {
    "cell_id": "502994b597214d4ba2f05e2b900d895c",
    "deepnote_cell_type": "markdown",
    "id": "Rg4ZMq8ezAH6"
   },
   "source": [
    "# Conclusión\n",
    "Eso ha sido todo para el lab de hoy, recuerden que el laboratorio tiene un plazo de entrega de una semana. Cualquier duda del laboratorio, no duden en contactarnos por mail o U-cursos.\n",
    "\n",
    "<p align=\"center\">\n",
    "  <img src=\"https://media2.giphy.com/media/l1J3CbFgn5o7DGRuE/giphy.gif\">\n",
    "</p>"
   ]
  },
  {
   "cell_type": "markdown",
   "metadata": {
    "cell_id": "da6d643bcf1542a8b119a15edaf0f75c",
    "deepnote_cell_type": "markdown",
    "id": "wCL1lACBzAH7"
   },
   "source": [
    "<br>\n",
    "<center>\n",
    "<img src=\"https://i.kym-cdn.com/photos/images/original/001/194/195/b18.png\" width=100 height=50 />\n",
    "</center>\n",
    "<br>"
   ]
  },
  {
   "cell_type": "markdown",
   "metadata": {
    "created_in_deepnote_cell": true,
    "deepnote_cell_type": "markdown",
    "tags": []
   },
   "source": [
    "<a style='text-decoration:none;line-height:16px;display:flex;color:#5B5B62;padding:10px;justify-content:end;' href='https://deepnote.com?utm_source=created-in-deepnote-cell&projectId=87110296-876e-426f-b91d-aaf681223468' target=\"_blank\">\n",
    "<img alt='Created in deepnote.com' style='display:inline;max-height:16px;margin:0px;margin-right:7.5px;' src='data:image/svg+xml;base64,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' > </img>\n",
    "Created in <span style='font-weight:600;margin-left:4px;'>Deepnote</span></a>"
   ]
  }
 ],
 "metadata": {
  "colab": {
   "collapsed_sections": [],
   "name": "Laboratorio3.ipynb",
   "provenance": []
  },
  "deepnote": {},
  "deepnote_execution_queue": [],
  "deepnote_notebook_id": "41ad7e529bfb484c8f7f538003203695",
  "kernelspec": {
   "display_name": "Python 3.9.13 64-bit (microsoft store)",
   "language": "python",
   "name": "python3"
  },
  "language_info": {
   "codemirror_mode": {
    "name": "ipython",
    "version": 3
   },
   "file_extension": ".py",
   "mimetype": "text/x-python",
   "name": "python",
   "nbconvert_exporter": "python",
   "pygments_lexer": "ipython3",
   "version": "3.9.13"
  },
  "toc": {
   "base_numbering": 1,
   "nav_menu": {},
   "number_sections": true,
   "sideBar": true,
   "skip_h1_title": true,
   "title_cell": "Tabla de Contenidos",
   "title_sidebar": "Contenidos",
   "toc_cell": false,
   "toc_position": {
    "height": "calc(100% - 180px)",
    "left": "10px",
    "top": "150px",
    "width": "241.867px"
   },
   "toc_section_display": true,
   "toc_window_display": true
  },
  "varInspector": {
   "cols": {
    "lenName": 16,
    "lenType": 16,
    "lenVar": 40
   },
   "kernels_config": {
    "python": {
     "delete_cmd_postfix": "",
     "delete_cmd_prefix": "del ",
     "library": "var_list.py",
     "varRefreshCmd": "print(var_dic_list())"
    },
    "r": {
     "delete_cmd_postfix": ") ",
     "delete_cmd_prefix": "rm(",
     "library": "var_list.r",
     "varRefreshCmd": "cat(var_dic_list()) "
    }
   },
   "types_to_exclude": [
    "module",
    "function",
    "builtin_function_or_method",
    "instance",
    "_Feature"
   ],
   "window_display": false
  },
  "vscode": {
   "interpreter": {
    "hash": "e0314dc982e8a3efb51afd2fccf8f08aea6f0fcf482884c0400dad91b66b3dd3"
   }
  }
 },
 "nbformat": 4,
 "nbformat_minor": 0
}
