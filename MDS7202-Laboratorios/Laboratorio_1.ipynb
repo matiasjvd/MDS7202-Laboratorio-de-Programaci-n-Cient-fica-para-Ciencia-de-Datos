{
  "cells": [
    {
      "cell_type": "markdown",
      "source": [
        "<h1><center>Laboratorio 1: Primeros pasos 👣</center></h1>\n",
        "\n",
        "<center><strong>MDS7202: Laboratorio de Programación Científica para Ciencia de Datos - Primavera 2022</strong></center>"
      ],
      "metadata": {
        "id": "cd7b1b55",
        "cell_id": "bfdbf4ab-01a2-4eb3-975a-8637166de34a",
        "deepnote_cell_type": "markdown",
        "deepnote_cell_height": 104.390625
      },
      "id": "cd7b1b55"
    },
    {
      "cell_type": "markdown",
      "source": [
        "### Cuerpo Docente:\n",
        "\n",
        "- Profesor: Matías Rojas y Mauricio Araneda\n",
        "- Auxiliar: Ignacio Meza D.\n",
        "- Ayudante: Rodrigo Guerra"
      ],
      "metadata": {
        "id": "Vp_vOHK7V97e",
        "cell_id": "00001-34166f5e-1967-44bf-93ae-9e1f689a9d2b",
        "deepnote_cell_type": "markdown",
        "deepnote_cell_height": 165.1875
      },
      "id": "Vp_vOHK7V97e"
    },
    {
      "cell_type": "markdown",
      "source": [
        "### Equipo: SUPER IMPORTANTE - notebooks sin nombre no serán revisados\n",
        "\n",
        "- Nombre de alumno 1: Camila Pinto\n",
        "- Nombre de alumno 2: Matias Villa\n"
      ],
      "metadata": {
        "id": "4N_5AYgyWKyA",
        "cell_id": "00002-de00814c-fecc-4f73-81d3-0c551d90f502",
        "deepnote_cell_type": "markdown",
        "deepnote_cell_height": 171.796875
      },
      "id": "4N_5AYgyWKyA"
    },
    {
      "cell_type": "markdown",
      "source": [
        "### **Link de repositorio de GitHub:** https://github.com/Camipinto/Laboratorio-de-Programacion-Cientifica-para-Ciencia-de-Datos/"
      ],
      "metadata": {
        "id": "1rjlaJDEWxd9",
        "cell_id": "00003-9e155e1b-c755-4987-a921-ef4b610a8cac",
        "deepnote_cell_type": "markdown",
        "deepnote_cell_height": 62
      },
      "id": "1rjlaJDEWxd9"
    },
    {
      "cell_type": "markdown",
      "source": [
        "## Reglas:\n",
        "\n",
        "- Fecha de entrega: 6 días desde la publicación, 3 días de atraso con 1 punto de descuento c/u. Pueden utilizar días bonus sin descuento.\n",
        "- **Grupos de 2 personas**.\n",
        "- **Ausentes** deberán realizar la actividad solos. \n",
        "- Cualquier duda fuera del horario de clases al foro. Mensajes al equipo docente serán respondidos por este medio.\n",
        "- Prohibidas las copias. \n",
        "- Pueden usar cualquer material del curso que estimen conveniente."
      ],
      "metadata": {
        "id": "9el9ERaKWW3i",
        "cell_id": "00004-b68898c3-df7f-4924-b546-39989db5c1eb",
        "deepnote_cell_type": "markdown",
        "deepnote_cell_height": 271.796875
      },
      "id": "9el9ERaKWW3i"
    },
    {
      "cell_type": "markdown",
      "source": [
        "\n",
        "## Objetivos del lab:\n",
        "\n",
        "\n",
        "- Variables, Operadores y Expresiones.\n",
        "- Estructuras de Control (if/else).\n",
        "- Iteraciones.\n",
        "- Listas y Diccionarios.\n",
        "- Programación Funcional (Map, Filter y Reduce).\n",
        "- Programación Orientada a Objetos (Encapsulamiento, Polimorfismo y Herencia)"
      ],
      "metadata": {
        "id": "4708b9b7",
        "cell_id": "00005-ee364add-3449-4845-8a64-70b2026cf418",
        "deepnote_cell_type": "markdown",
        "deepnote_cell_height": 249.390625
      },
      "id": "4708b9b7"
    },
    {
      "cell_type": "markdown",
      "source": [
        "## Parte 1: 🍋 Frutas 🍓\n",
        "\n",
        "En esta primera parte se trabajará lo escencial visto hasta el momento más un poco de programación funcional a través de frutas:\n",
        "\n",
        "<div align='center'>\n",
        "<img src='https://upload.wikimedia.org/wikipedia/commons/a/a2/Berries_in_Berlin.jpg' width=600/>\n",
        "</div>"
      ],
      "metadata": {
        "id": "d58b089c",
        "cell_id": "00006-ee59127c-6e4d-4f0a-b7b3-91fa67030c38",
        "deepnote_cell_type": "markdown",
        "deepnote_cell_height": 567.09375
      },
      "id": "d58b089c"
    },
    {
      "cell_type": "markdown",
      "source": [
        "Defina las siguientes frutas como diccionarios a partir de sus características (nombre, color, tipo y si posee o no pepas):\n",
        "\n",
        "| Nombre    | Tipo     | Color    | Pepas |\n",
        "|-----------|----------|----------|-------|\n",
        "| limon     | cítrica  | amarillo | True  |\n",
        "| naranja   | cítrica  | naranjo  | True  |\n",
        "| plátano   | tropical | amarillo | False |\n",
        "| piña      | tropical | amarillo | False |\n",
        "| frutilla  | bosque   | rojo     | True |\n",
        "| frambuesa | bosque   | rojo     | True |"
      ],
      "metadata": {
        "id": "5fdf6b19",
        "cell_id": "00007-a7c16348-8e92-4ca9-8186-61b6469ed037",
        "deepnote_cell_type": "markdown",
        "deepnote_cell_height": 259.59375
      },
      "id": "5fdf6b19"
    },
    {
      "cell_type": "markdown",
      "source": [
        "### [0.5] Estructurar Datos \n",
        "\n",
        "Agregue Piña, Frutilla y Frambuesa como diccionarios (siga los ejemplos de las frutas dadas) y luego cree un arreglo que contenga estas frutas.\n"
      ],
      "metadata": {
        "id": "33aed47b",
        "cell_id": "00008-129dfcb2-92ca-420e-914c-ef3d28ca94cb",
        "deepnote_cell_type": "markdown",
        "deepnote_cell_height": 122.796875
      },
      "id": "33aed47b"
    },
    {
      "cell_type": "code",
      "metadata": {
        "id": "26d23e26",
        "deepnote_to_be_reexecuted": false,
        "source_hash": "56db5a38",
        "execution_start": 1648863016482,
        "execution_millis": 22,
        "cell_id": "00009-dc5bdf7c-c90a-4657-9ab2-b459aae42f9c",
        "deepnote_cell_type": "code",
        "deepnote_cell_height": 436
      },
      "source": [
        "limon = {\n",
        "    \"nombre\": \"limón\", \n",
        "    \"tipo\": \"cítrica\", \n",
        "    \"color\": \"amarillo\", \n",
        "    \"pepas\": True\n",
        "    }\n",
        "\n",
        "naranja = {\"nombre\": \"naranja\", \n",
        "           \"tipo\": \"cítrica\", \n",
        "           \"color\": \"naranjo\", \n",
        "           \"pepas\": True\n",
        "          }\n",
        "\n",
        "platano = {\"nombre\": \"plátano\", \n",
        "           \"tipo\": \"tropical\", \n",
        "           \"color\": \"amarillo\", \n",
        "           \"pepas\": False\n",
        "          }\n",
        "          \n",
        "# agregar las frutas que faltan aquí\n",
        "pina = {\n",
        "    \"nombre\": \"piña\", \n",
        "    \"tipo\": \"tropical\", \n",
        "    \"color\": \"amarillo\", \n",
        "    \"pepas\": False\n",
        "    }\n",
        "\n",
        "frutilla = {\"nombre\": \"frutilla\", \n",
        "           \"tipo\": \"bosque\", \n",
        "           \"color\": \"rojo\", \n",
        "           \"pepas\": True\n",
        "          }\n",
        "\n",
        "frambuesa = {\"nombre\": \"frambuesa\", \n",
        "           \"tipo\": \"bosque\", \n",
        "           \"color\": \"rojo\", \n",
        "           \"pepas\": True\n",
        "          }"
      ],
      "execution_count": null,
      "outputs": [],
      "id": "26d23e26"
    },
    {
      "cell_type": "markdown",
      "source": [
        "Ahora, agregue todas las frutas a un arreglo."
      ],
      "metadata": {
        "id": "259ee333",
        "cell_id": "00010-8baad02c-338c-4832-a1fb-421094a960d5",
        "deepnote_cell_type": "markdown",
        "deepnote_cell_height": 52.390625
      },
      "id": "259ee333"
    },
    {
      "cell_type": "code",
      "metadata": {
        "id": "fcf62186",
        "deepnote_to_be_reexecuted": false,
        "source_hash": "78d4e62",
        "execution_start": 1648863016524,
        "execution_millis": 29,
        "cell_id": "00011-c1317f9f-b373-4ffa-85a4-edae3c0d74f6",
        "deepnote_cell_type": "code",
        "deepnote_cell_height": 94
      },
      "source": [
        "# Ojo: agregue los datos en el mismo orden que aparecen en la tabla\n",
        "datos = [limon, naranja, platano, pina, frutilla, frambuesa]"
      ],
      "execution_count": null,
      "outputs": [],
      "id": "fcf62186"
    },
    {
      "cell_type": "markdown",
      "source": [
        "Este arreglo será la información con la que se trabajará durante el lab."
      ],
      "metadata": {
        "id": "2ed7730e",
        "cell_id": "00012-5549a576-e1ee-4f26-8bea-dfbed941bef9",
        "deepnote_cell_type": "markdown",
        "deepnote_cell_height": 52.390625
      },
      "id": "2ed7730e"
    },
    {
      "cell_type": "markdown",
      "source": [
        "### Funciones Aplicadas a los Datos [1.5 puntos]"
      ],
      "metadata": {
        "id": "e9b1e46d",
        "cell_id": "00013-28d3dfd6-20bb-4cec-aade-bedb822304cd",
        "deepnote_cell_type": "markdown",
        "deepnote_cell_height": 62
      },
      "id": "e9b1e46d"
    },
    {
      "cell_type": "markdown",
      "source": [
        "Elabore las siguientes funciones:\n",
        "    \n",
        "**1. La función `describir(datos)` que genere un arreglo con strings que describan cada fruta de la siguiente manera:**\n",
        "\n",
        "```{El/La} {...} es una fruta de tipo {...} de color {...}. {Presenta/No presenta} pepas en su interior.```\n",
        "    \n",
        "Por ejemplo, para el plátano se debe generar el siguiente string:\n",
        "    \n",
        "```\n",
        "'El plátano es una fruta de tipo tropical de color amarillo. No presenta pepas en su interior.'\n",
        "```\n",
        "    \n",
        "Indicaciones: \n",
        "- Usen formateo o suma de strings, if, else y for.\n",
        "- Para saber si ocupar 'El' o 'La', pueden acceder al nombre de la fruta y ver cual es el último carácter a través de indexadores `string[indice]`.\n",
        "    \n",
        "**2. La función `filtrar_por_pepa(datos, tiene_pepas)` que dado un tipo de fruta y un booleano, retorne las frutas que tienen o no tienen pepas (según el valor de `tiene_pepas`).**\n",
        "    \n",
        "\n",
        "Por ejemplo, `filtrar_por_pepa(datos, True)` deberá retornar un arreglo con los diccionarios de: naranja, limon, frutilla y frambuesa.\n",
        "\n",
        "\n",
        "**3. La función `conteo_colores(datos)` que cree un diccionario que haga un conteo los colores de las frutas.**\n",
        "\n",
        "Para estos datos, la función debería retornar el siguiente diccionario: \n",
        "    \n",
        "```python\n",
        "{\"amarillo\": 3, \"naranjo\": 1, \"rojo\": 2}\n",
        "````"
      ],
      "metadata": {
        "id": "b7b016d6",
        "cell_id": "00014-cd5b819f-eab4-4c58-ad5d-38f8c7748b2a",
        "deepnote_cell_type": "markdown",
        "deepnote_cell_height": 614.59375
      },
      "id": "b7b016d6"
    },
    {
      "cell_type": "code",
      "metadata": {
        "id": "023bc051",
        "deepnote_to_be_reexecuted": false,
        "source_hash": "cc4d3003",
        "execution_start": 1648863316144,
        "execution_millis": 0,
        "cell_id": "00015-60e93552-c571-4d33-8760-e0224417f3ff",
        "deepnote_cell_type": "code",
        "deepnote_cell_height": 310
      },
      "source": [
        "from re import U\n",
        "from ast import Lambda\n",
        "\n",
        "def describir(datos):\n",
        "    s = []\n",
        "    for llave in datos:\n",
        "      descritos = \"\"\n",
        "      if llave['nombre'][-1] == 'a':\n",
        "          descritos += \"La \" + llave['nombre'] + ' es una fruta de tipo ' + llave['tipo'] + ' de color ' + llave['color']\n",
        "          if llave['pepas'] == True:\n",
        "            descritos += '. Presenta pepas en su interior.'   \n",
        "          else:\n",
        "            descritos += '. No presenta pepas en su interior.'\n",
        "      else:\n",
        "          descritos += 'El '+ llave['nombre']+ ' es una fruta de tipo ' + llave['tipo'] + ' de color ' + llave['color']\n",
        "          if llave['pepas'] == True:\n",
        "            descritos += '. Presenta pepas en su interior.'   \n",
        "          else:\n",
        "            descritos += '. No presenta pepas en su interior.'\n",
        "      s.append(descritos)\n",
        "\n",
        "    return s\n",
        "\n",
        "def filtrar_por_pepa(datos, tiene_pepas):\n",
        "    filtrados = []\n",
        "    for llave in datos:\n",
        "      if llave['pepas'] == tiene_pepas:\n",
        "          filtrados.append(llave)  \n",
        "      else:\n",
        "        filtrados\n",
        "    return filtrados\n",
        "\n",
        "def conteo_colores(datos):\n",
        "    colores = []\n",
        "    conteo = []\n",
        "    cantidad = []\n",
        "    ufa = []\n",
        "    for llave in datos:\n",
        "        if llave['color'] not in colores:\n",
        "          colores.append(llave['color'])\n",
        "        for color in colores:\n",
        "             cantidad.append(0)\n",
        "        conteo = dict(zip(colores, cantidad))\n",
        "\n",
        "    for llave in datos:\n",
        "        for key, value in conteo.items():\n",
        "          if llave['color'] == key:\n",
        "             conteo[key]+=1\n",
        "          else: conteo[key]+=0\n",
        "\n",
        "    return conteo\n",
        "    "
      ],
      "execution_count": null,
      "outputs": [],
      "id": "023bc051"
    },
    {
      "cell_type": "markdown",
      "source": [
        "El código de la siguiente celda presenta tests para probar sus funciones: Si la ejecución de esta celda no les levanta ninguna excepción, entonces sus funciones están implementadas según lo requerido. Si alguna falla, entonces deberán corregir los errores mostrados. \n",
        "Noten que los strings, diccionarios y en general, los objetos deben ser exactamente idénticos para que el test no falle.\n"
      ],
      "metadata": {
        "id": "5240bec1",
        "cell_id": "00016-3a23b5a7-7670-44ae-9d7f-799a1c55e7fe",
        "deepnote_cell_type": "markdown",
        "deepnote_cell_height": 142
      },
      "id": "5240bec1"
    },
    {
      "cell_type": "markdown",
      "source": [
        "**Ejecuten esta celda para comprobar su código:**"
      ],
      "metadata": {
        "id": "F2mt7aIusap8",
        "cell_id": "00017-069e9135-e447-4925-b184-6b3caef5395d",
        "deepnote_cell_type": "markdown",
        "deepnote_cell_height": 52.390625
      },
      "id": "F2mt7aIusap8"
    },
    {
      "cell_type": "code",
      "metadata": {
        "id": "c39b58c0",
        "deepnote_to_be_reexecuted": false,
        "source_hash": "af520603",
        "execution_start": 1648863016644,
        "execution_millis": 0,
        "cell_id": "00018-e3eddceb-a874-4260-8649-c594aedc83ce",
        "deepnote_cell_type": "code",
        "deepnote_cell_height": 657
      },
      "source": [
        "# ---------------------------------------------------------------------\n",
        "# test descripciones\n",
        "# note que las frutas deben estar en igual orden para que este assert no falle.\n",
        "\n",
        "descripciones_esperadas = [\n",
        "    \"El limón es una fruta de tipo cítrica de color amarillo. Presenta pepas en su interior.\",\n",
        "    \"La naranja es una fruta de tipo cítrica de color naranjo. Presenta pepas en su interior.\",\n",
        "    \"El plátano es una fruta de tipo tropical de color amarillo. No presenta pepas en su interior.\",\n",
        "    \"La piña es una fruta de tipo tropical de color amarillo. No presenta pepas en su interior.\",\n",
        "    \"La frutilla es una fruta de tipo bosque de color rojo. Presenta pepas en su interior.\",\n",
        "    \"La frambuesa es una fruta de tipo bosque de color rojo. Presenta pepas en su interior.\",\n",
        "]\n",
        "\n",
        "assert descripciones_esperadas == describir(datos)\n",
        "\n",
        "\n",
        "# ---------------------------------------------------------------------\n",
        "# test filtro\n",
        "frutas_con_pepa_esperadas = [\n",
        "    {\"nombre\": \"limón\", \"tipo\": \"cítrica\", \"color\": \"amarillo\", \"pepas\": True},\n",
        "    {\"nombre\": \"naranja\", \"tipo\": \"cítrica\", \"color\": \"naranjo\", \"pepas\": True},\n",
        "    {\"nombre\": \"frutilla\", \"tipo\": \"bosque\", \"color\": \"rojo\", \"pepas\": True},\n",
        "    {\"nombre\": \"frambuesa\", \"tipo\": \"bosque\", \"color\": \"rojo\", \"pepas\": True}\n",
        "]\n",
        "\n",
        "assert frutas_con_pepa_esperadas == filtrar_por_pepa(datos, True)\n",
        "\n",
        "# ---------------------------------------------------------------------\n",
        "# test conteo\n",
        "conteo_esperado = {'amarillo': 3, 'naranjo': 1, 'rojo': 2}\n",
        "\n",
        "\n",
        "assert conteo_esperado == conteo_colores(datos)"
      ],
      "execution_count": null,
      "outputs": [],
      "id": "c39b58c0"
    },
    {
      "cell_type": "markdown",
      "source": [
        "### Implementaciones Funcionales [1.0 punto] \n",
        "\n",
        "Implementar las funciones de la sección anterior de forma funcional (solo las primeras 2)."
      ],
      "metadata": {
        "id": "yvry-8cgmHk5",
        "cell_id": "00019-4f86fe93-a6fe-4f70-a2de-9502e44b49b5",
        "deepnote_cell_type": "markdown",
        "deepnote_cell_height": 100.390625
      },
      "id": "yvry-8cgmHk5"
    },
    {
      "cell_type": "code",
      "metadata": {
        "id": "c6ef993a",
        "deepnote_to_be_reexecuted": false,
        "source_hash": "64c31950",
        "execution_start": 1648863330543,
        "execution_millis": 3,
        "cell_id": "00020-dad72fd1-f187-41f7-8a0c-4146cb5b306f",
        "deepnote_cell_type": "code",
        "deepnote_cell_height": 274,
        "colab": {
          "base_uri": "https://localhost:8080/"
        },
        "outputId": "d3aa7055-2929-4eab-c886-303dad51fc3a"
      },
      "source": [
        "def describir_funcional(datos):\n",
        "    def generar_descripcion(fruta):\n",
        "      # esta función debería retornar el string para una fruta en particular.\n",
        "        descritos = \"\"\n",
        "        if fruta['nombre'][-1] == 'a':\n",
        "          descritos += \"La \" + fruta['nombre'] + ' es una fruta de tipo ' + fruta['tipo'] + ' de color ' + fruta['color']\n",
        "          if fruta['pepas'] == True:\n",
        "            descritos += '. Presenta pepas en su interior.'   \n",
        "          else:\n",
        "            descritos += '. No presenta pepas en su interior.'\n",
        "        else:\n",
        "          descritos += 'El '+ fruta['nombre']+ ' es una fruta de tipo ' + fruta['tipo'] + ' de color ' + fruta['color']\n",
        "          if fruta['pepas'] == True:\n",
        "            descritos += '. Presenta pepas en su interior.'   \n",
        "          else:\n",
        "            descritos += '. No presenta pepas en su interior.'\n",
        "        return descritos\n",
        "    \n",
        "    descripciones = list(map(generar_descripcion, datos))\n",
        "    return descripciones\n",
        "\n",
        "print(describir_funcional(datos))\n",
        "\n",
        "\n",
        "\n",
        "def filtrar_por_pepa_funcional(datos, tipo_de_dato):\n",
        "      filtrados = list(filter(lambda datos: datos['pepas'] == tipo_de_dato, datos))\n",
        "      return filtrados"
      ],
      "execution_count": null,
      "outputs": [
        {
          "output_type": "stream",
          "name": "stdout",
          "text": [
            "['El limón es una fruta de tipo cítrica de color amarillo. Presenta pepas en su interior.', 'La naranja es una fruta de tipo cítrica de color naranjo. Presenta pepas en su interior.', 'El plátano es una fruta de tipo tropical de color amarillo. No presenta pepas en su interior.', 'La piña es una fruta de tipo tropical de color amarillo. No presenta pepas en su interior.', 'La frutilla es una fruta de tipo bosque de color rojo. Presenta pepas en su interior.', 'La frambuesa es una fruta de tipo bosque de color rojo. Presenta pepas en su interior.']\n"
          ]
        }
      ],
      "id": "c6ef993a"
    },
    {
      "cell_type": "code",
      "metadata": {
        "id": "OyGdi9IRS9fy",
        "deepnote_to_be_reexecuted": false,
        "source_hash": "a202dbc8",
        "execution_start": 1648863332481,
        "execution_millis": 4,
        "cell_id": "00021-b768865a-b51d-42df-870e-5ce765869644",
        "deepnote_cell_type": "code",
        "deepnote_cell_height": 94
      },
      "source": [
        "assert descripciones_esperadas == describir_funcional(datos)\n",
        "assert frutas_con_pepa_esperadas == filtrar_por_pepa_funcional(datos, True)"
      ],
      "execution_count": null,
      "outputs": [],
      "id": "OyGdi9IRS9fy"
    },
    {
      "cell_type": "markdown",
      "source": [
        "## Parte 2: Electrodomésticos \n",
        "\n",
        "En esta parte se solicitarán un par de clases que permitirá jugar con la Programación Orientada a Objetos.\n",
        "\n",
        "<div align='center'>\n",
        "<img src='https://upload.wikimedia.org/wikipedia/commons/6/67/Breville.jpg' width=400/>\n",
        "</div>\n",
        "\n",
        "\n",
        "### [0.5] Clase Electrodoméstico\n",
        "\n",
        "Defina la clase `Electrodomestico` que implemente:\n",
        "\n",
        "\n",
        "- Un constructor que defina un atributo de instancia llamado `enchufado` que almacene valores booleanos. \n",
        "- Un método llamado `esta_enchufado(self)` que levante una excepción `Exception` y que termine con la ejecución del programa cuando el atributo enchuado sea `False`. La exepción debe levantar el mensaje `'Alerta ⚠️: El electrodoméstico no está enchufado'`\n",
        "- Un método llamado `enchufar(self)` que cambia el estado de `enchufado` a True.\n",
        "\n"
      ],
      "metadata": {
        "id": "492b941a",
        "cell_id": "00022-276603b2-51d4-4b7f-8001-a1616289e70e",
        "deepnote_cell_type": "markdown",
        "deepnote_cell_height": 723.59375
      },
      "id": "492b941a"
    },
    {
      "cell_type": "code",
      "metadata": {
        "id": "9f8aa475",
        "deepnote_to_be_reexecuted": false,
        "source_hash": "43ca10f0",
        "execution_start": 1648863016745,
        "execution_millis": 21,
        "cell_id": "00023-6491b37f-6bf9-48c1-8dd6-64734002117f",
        "deepnote_cell_type": "code",
        "deepnote_cell_height": 238
      },
      "source": [
        "class Electrodomestico:\n",
        "    \n",
        "    def __init__(self,enchufado):\n",
        "        self.enchufado = enchufado\n",
        "\n",
        "    def esta_enchufado(self):\n",
        "        try:\n",
        "            assert self.enchufado == True\n",
        "        except:\n",
        "            print('Alerta ⚠️: El electrodoméstico no está enchufado')\n",
        "\n",
        "    def enchufar(self):\n",
        "        if self.enchufado == False:\n",
        "            self.enchufado = True"
      ],
      "execution_count": null,
      "outputs": [],
      "id": "9f8aa475"
    },
    {
      "cell_type": "code",
      "source": [
        "e = Electrodomestico(False)"
      ],
      "metadata": {
        "id": "aeXs5qew6LLw"
      },
      "id": "aeXs5qew6LLw",
      "execution_count": null,
      "outputs": []
    },
    {
      "cell_type": "code",
      "source": [
        "e.esta_enchufado()"
      ],
      "metadata": {
        "colab": {
          "base_uri": "https://localhost:8080/"
        },
        "id": "B0nyHYP3MUWh",
        "outputId": "8e6cadbf-e30e-4196-f209-9bf4261b4619"
      },
      "id": "B0nyHYP3MUWh",
      "execution_count": null,
      "outputs": [
        {
          "output_type": "stream",
          "name": "stdout",
          "text": [
            "Alerta ⚠️: El electrodoméstico no está enchufado\n"
          ]
        }
      ]
    },
    {
      "cell_type": "code",
      "source": [
        "e.enchufar()\n",
        "e.esta_enchufado()"
      ],
      "metadata": {
        "id": "aSktgc4PW7rU"
      },
      "id": "aSktgc4PW7rU",
      "execution_count": null,
      "outputs": []
    },
    {
      "cell_type": "markdown",
      "source": [
        "### Clase Jugera [1.0 puntos] \n",
        "\n",
        "\n",
        "<div align='center'>\n",
        "<img src='https://upload.wikimedia.org/wikipedia/commons/b/bb/Liquadora_%28parts%29.JPG' width=400/>\n",
        "</div>\n",
        "\n",
        "\n",
        "Implemente la clase `Jugera` que extiende `Electrodomestico` y que implemente: \n",
        "\n",
        "\n",
        "- Un constructor que tenga una lista de ingredientes frutales (llamado `bandeja`).\n",
        "\n",
        "\n",
        "- Un método llamado `agregar_ingrediente(self, nueva_fruta)` que dado una fruta, agregue esa fruta a la `bandeja`.\n",
        "\n",
        "- Un método llamado `listar_ingredientes(self)` que imprima (con `print`) los ingredientes actuales de la `bandeja` de la siguiente forma: \n",
        "\n",
        "    `Ingredientes en la bandeja: frutilla, frambuesa, piña.`\n",
        "\n",
        "De lo contrario si no tiene ingredientes imprima:\n",
        "\n",
        "    `Bandeja vacía`\n",
        "\n",
        "\n",
        "**Hint:** Investigar el método `join` de un string para generar el string con los nombres de las frutas.\n",
        "    \n",
        "    \n",
        "    \n",
        "\n",
        "- Un método llamado `preparar_jugo(self)` que: \n",
        "    - Primero verifique que el electrodoméstico esté enchufado usando `self.esta_enchufado()`.\n",
        "    - Verifique que haya por lo menos un ingrediente en la `bandeja`. En el caso que no haya, levantar una excepción con contenido `'Error ❌: La bandeja no tiene ingredientes.'`\n",
        "    - Verifique que ninguna fruta tenga pepas. En el caso que haya alguna, imprimir (con `print`) el mensaje de advertencia `'Alerta ⚠️: El jugo puede contener restos de pepas.'`. Puede usar la función definida en la sección anterior.\n",
        "    - Genere un mensaje indicado `Jugo de {nombres de las frutas separadas por una ,} listo. 🏖️🥤 Que lo disfrutes!!! 🥤🏖️. ` (Hint: Usar nuevamente `join`).\n",
        "    - Vacie la `bandeja` (es decir, eliminar todas las frutas de la bandeja).\n",
        "    - Retorne el mensaje generado.\n"
      ],
      "metadata": {
        "id": "d7d477b5",
        "cell_id": "00024-0d2d8181-6462-4204-9fa4-da88063e46c8",
        "deepnote_cell_type": "markdown",
        "deepnote_cell_height": 1059.59375
      },
      "id": "d7d477b5"
    },
    {
      "cell_type": "code",
      "metadata": {
        "id": "d9db037b",
        "deepnote_to_be_reexecuted": false,
        "source_hash": "fe592b51",
        "execution_start": 1648863366156,
        "execution_millis": 0,
        "cell_id": "00025-bb7f14a6-ab47-4169-9435-6cab7ecf5ccf",
        "deepnote_cell_type": "code",
        "deepnote_cell_height": 346
      },
      "source": [
        "class Jugera(Electrodomestico):\n",
        "    \n",
        "    def __init__(self, enchufado):\n",
        "      super().__init__(enchufado)\n",
        "      self.bandeja = []\n",
        "        \n",
        "    def agregar_ingrediente(self, nueva_fruta):\n",
        "        self.bandeja.append(nueva_fruta)\n",
        "     \n",
        "    def listar_ingredientes(self):\n",
        "      if self.bandeja != []:\n",
        "          texto = 'Ingredientes en la bandeja: '\n",
        "          l = []\n",
        "          for fruit in self.bandeja:\n",
        "              l.append(fruit['nombre'])\n",
        "              \n",
        "          texto += ','.join(l)\n",
        "          print(texto)\n",
        "      else: \n",
        "        print('Bandeja vacía')\n",
        "    \n",
        "    def preparar_jugo(self):\n",
        "        self.esta_enchufado()\n",
        "        try:\n",
        "            assert self.bandeja != [] \n",
        "            if self.bandeja != [] :\n",
        "                s =''\n",
        "                if filtrar_por_pepa(self.bandeja,True) == []:\n",
        "                    mensaje = 'Jugo de '\n",
        "                    l =[]\n",
        "                    for fruit in self.bandeja:\n",
        "                        l.append(fruit['nombre'])\n",
        "                        \n",
        "                    mensaje += ','.join(l)\n",
        "                    mensaje += ' listo. 🏖️🥤 Que lo disfrutes!!! 🥤🏖️.'\n",
        "               \n",
        "                else:\n",
        "                    print('Alerta ⚠️: El jugo puede contener restos de pepas.')\n",
        "                    mensaje = 'Jugo de '\n",
        "                    l =[]\n",
        "                    for fruit in self.bandeja:\n",
        "                        l.append(fruit['nombre'])\n",
        "                        \n",
        "                    mensaje += ','.join(l)\n",
        "                    mensaje += ' listo. 🏖️🥤 Que lo disfrutes!!! 🥤🏖️.'\n",
        "                    \n",
        "                s = mensaje\n",
        "                print(s)\n",
        "                \n",
        "        except:\n",
        "            print('Error ❌: La bandeja no tiene ingredientes.')\n",
        "\n",
        "        self.bandeja = []\n",
        "    \n",
        "\n",
        "\n"
      ],
      "execution_count": null,
      "outputs": [],
      "id": "d9db037b"
    },
    {
      "cell_type": "markdown",
      "source": [
        "### Interacciones\n",
        "\n",
        "Las siguientes celdas les permitirán probar las interacciones de esta clase.\n",
        "La ejecución es solo referencial y no lleva puntaje. La idea es que la utilice como guía para desarrollar la clase."
      ],
      "metadata": {
        "id": "6889015a",
        "cell_id": "00026-21181882-8e79-4805-8e16-94ba7fcf4a37",
        "deepnote_cell_type": "markdown",
        "deepnote_cell_height": 122.796875
      },
      "id": "6889015a"
    },
    {
      "cell_type": "code",
      "metadata": {
        "id": "913af660",
        "colab": {
          "base_uri": "https://localhost:8080/"
        },
        "outputId": "e486ec93-22b4-4459-8796-3813f26d50da",
        "deepnote_to_be_reexecuted": false,
        "source_hash": "239b8903",
        "execution_start": 1648863369348,
        "execution_millis": 8,
        "cell_id": "00027-1867ac2c-f7af-402f-b64b-90b3a762058a",
        "deepnote_cell_type": "code",
        "deepnote_cell_height": 161
      },
      "source": [
        "jugera = Jugera(False)\n",
        "\n",
        "# Como no tenemos ingredientes, listar_ingredientes deberá imprimir 'Bandeja vacía'\n",
        "jugera.listar_ingredientes()"
      ],
      "execution_count": null,
      "outputs": [
        {
          "output_type": "stream",
          "name": "stdout",
          "text": [
            "Bandeja vacía\n"
          ]
        }
      ],
      "id": "913af660"
    },
    {
      "cell_type": "code",
      "metadata": {
        "scrolled": false,
        "id": "9d06bf3e",
        "deepnote_to_be_reexecuted": false,
        "source_hash": "77689b24",
        "execution_start": 1648863371573,
        "execution_millis": 20,
        "cell_id": "00028-de679d95-a42c-48f6-86ff-3ca92f9de2c2",
        "deepnote_cell_type": "code",
        "deepnote_cell_height": 157.1875,
        "colab": {
          "base_uri": "https://localhost:8080/"
        },
        "outputId": "1c6056fd-37c2-4815-aabd-d36b7eed12ae"
      },
      "source": [
        "# Esta celda debería levantar una excepcion indicando que no está enchufada la jugera.\n",
        "jugera.preparar_jugo()"
      ],
      "execution_count": null,
      "outputs": [
        {
          "output_type": "stream",
          "name": "stdout",
          "text": [
            "Alerta ⚠️: El electrodoméstico no está enchufado\n",
            "Error ❌: La bandeja no tiene ingredientes.\n"
          ]
        }
      ],
      "id": "9d06bf3e"
    },
    {
      "cell_type": "code",
      "metadata": {
        "id": "3ad38f18",
        "deepnote_to_be_reexecuted": false,
        "source_hash": "36a2ab49",
        "execution_start": 1648863372430,
        "execution_millis": 0,
        "cell_id": "00029-d9165e10-9c64-4c24-9a09-8ab9d42107fe",
        "deepnote_cell_type": "code",
        "deepnote_cell_height": 94
      },
      "source": [
        "# Enchufamos el electrodoméstico\n",
        "jugera.enchufar()"
      ],
      "execution_count": null,
      "outputs": [],
      "id": "3ad38f18"
    },
    {
      "cell_type": "code",
      "source": [
        "jugera.esta_enchufado()"
      ],
      "metadata": {
        "id": "SpLpAoAoXa1M"
      },
      "id": "SpLpAoAoXa1M",
      "execution_count": null,
      "outputs": []
    },
    {
      "cell_type": "code",
      "metadata": {
        "scrolled": true,
        "id": "48009872",
        "deepnote_to_be_reexecuted": false,
        "source_hash": "27514b2c",
        "execution_start": 1648863376136,
        "execution_millis": 173,
        "cell_id": "00030-21f1cce1-c787-421e-9a9d-568148509bfa",
        "deepnote_cell_type": "code",
        "deepnote_cell_height": 162.1875,
        "colab": {
          "base_uri": "https://localhost:8080/"
        },
        "outputId": "fe9f1cf1-b257-420c-ae69-8929ccafe6c9"
      },
      "source": [
        "# Esta celda debería levantar ina excepción informandoles que la bandeja no tiene ingredientes.\n",
        "jugera.preparar_jugo()"
      ],
      "execution_count": null,
      "outputs": [
        {
          "output_type": "stream",
          "name": "stdout",
          "text": [
            "Error ❌: La bandeja no tiene ingredientes.\n"
          ]
        }
      ],
      "id": "48009872"
    },
    {
      "cell_type": "code",
      "metadata": {
        "id": "4873e0bf",
        "deepnote_to_be_reexecuted": false,
        "source_hash": "a8f0979e",
        "execution_start": 1648863377052,
        "execution_millis": 6,
        "cell_id": "00031-557247ee-0b0e-419d-ab91-05eb6c622fea",
        "deepnote_cell_type": "code",
        "deepnote_cell_height": 197,
        "colab": {
          "base_uri": "https://localhost:8080/"
        },
        "outputId": "f0a4f01f-5460-494b-a954-8fbe9d7758b5"
      },
      "source": [
        "# Agregamos algunos ingredientes\n",
        "jugera.agregar_ingrediente(naranja)\n",
        "jugera.agregar_ingrediente(platano)\n",
        "\n",
        "# Y los listamos (debería imprimir: 'Ingredientes en la bandeja: naranja, plátano')\n",
        "jugera.listar_ingredientes()"
      ],
      "execution_count": null,
      "outputs": [
        {
          "output_type": "stream",
          "name": "stdout",
          "text": [
            "Ingredientes en la bandeja: naranja,plátano\n"
          ]
        }
      ],
      "id": "4873e0bf"
    },
    {
      "cell_type": "code",
      "metadata": {
        "id": "ff555151",
        "deepnote_to_be_reexecuted": false,
        "source_hash": "7086345e",
        "execution_start": 1648863380098,
        "execution_millis": 5,
        "cell_id": "00032-fe1976d4-c86a-446c-bd56-cc8fcc77902d",
        "deepnote_cell_type": "code",
        "deepnote_cell_height": 176.1875,
        "deepnote_output_heights": [
          null,
          20.1875
        ],
        "colab": {
          "base_uri": "https://localhost:8080/"
        },
        "outputId": "f9a4873c-a470-42f4-9d9d-5df101a37615"
      },
      "source": [
        "# Preparamos el jugo: 'Jugo de naranja, plátano listo. 🏖️🥤 Que lo disfrutes!!! 🥤🏖️.'\n",
        "jugera.preparar_jugo()"
      ],
      "execution_count": null,
      "outputs": [
        {
          "output_type": "stream",
          "name": "stdout",
          "text": [
            "Alerta ⚠️: El jugo puede contener restos de pepas.\n",
            "Jugo de naranja,plátano listo. 🏖️🥤 Que lo disfrutes!!! 🥤🏖️.\n"
          ]
        }
      ],
      "id": "ff555151"
    },
    {
      "cell_type": "code",
      "metadata": {
        "id": "bbc532b2",
        "deepnote_to_be_reexecuted": false,
        "source_hash": "6a032d0a",
        "execution_start": 1648863382273,
        "execution_millis": 0,
        "cell_id": "00033-b4fab02e-5c0b-4370-b0ff-f5e7fc5e06ba",
        "deepnote_cell_type": "code",
        "deepnote_cell_height": 125,
        "colab": {
          "base_uri": "https://localhost:8080/"
        },
        "outputId": "f26b8c7d-ec2e-4918-8e05-b0154d88c516"
      },
      "source": [
        "# Una vez preparado el jugo, debería vaciarse la bandeja (imprimir Bandeja vacía)\n",
        "jugera.listar_ingredientes()"
      ],
      "execution_count": null,
      "outputs": [
        {
          "output_type": "stream",
          "name": "stdout",
          "text": [
            "Bandeja vacía\n"
          ]
        }
      ],
      "id": "bbc532b2"
    },
    {
      "cell_type": "markdown",
      "source": [
        "### Clase Jugera + Properties  [1.0]\n",
        "\n",
        "Implementar `bandeja` usando una `property` que permita setear una `nueva_bandeja` como `bandeja` según las siguientes condiciones:\n",
        "\n",
        "\n",
        "- Compruebe que `nueva_bandeja` sea una lista. En caso contrario, levante una excepción.\n",
        "- No permita agregar más de 3 ingredientes a la bandeja a la vez. Si se entregan más de 3 frutas, se levante una excepción.\n",
        "- Se compruebe que todos los elementos del arreglo sean frutas. Para esto, por cada fruta compruebe que:\n",
        "    1. La fruta sea diccionario.\n",
        "    2. El diccionario entregado tenga las llaves `nombre`, `tipo`, `color` y `pepas`."
      ],
      "metadata": {
        "id": "972dbcac",
        "cell_id": "00034-73d8fb0c-4cf8-48a7-8cba-d20f701f942e",
        "deepnote_cell_type": "markdown",
        "deepnote_cell_height": 297.1875
      },
      "id": "972dbcac"
    },
    {
      "cell_type": "code",
      "source": [
        "class Jugera2(Jugera):\n",
        "    \n",
        "    \n",
        "    def __init__(self, bandeja, enchufado, **kwargs):\n",
        "        super().__init__(bandeja,enchufado)\n",
        "\n",
        "    @property\n",
        "    def bandeja(self):\n",
        "        return self.bandeja\n",
        "        \n",
        "    @bandeja.setter\n",
        "    def bandeja(self, nueva_bandeja):\n",
        "        try:\n",
        "            assert type(nueva_bandeja) == list\n",
        "        except:\n",
        "            print('La nueva bandeja no es una lista')\n",
        "        try:\n",
        "            assert len(nueva_bandeja)<=3\n",
        "        except:\n",
        "            print('No se pueden entregar más de 3 frutas a la vez')\n",
        "        for fruta in nueva_bandeja:\n",
        "            if type(fruta) == dict:\n",
        "                if fruta['nombre'] and fruta['tipo'] and fruta['color'] and fruta['pepas'] != None:\n",
        "                    self.bandeja = nueva_bandeja\n",
        "\n",
        "    def agregar_ingrediente(self, nueva_fruta):\n",
        "        return Jugera.agregar_ingrediente(self, nueva_fruta)\n",
        "     \n",
        "    def listar_ingredientes(self):\n",
        "        return Jugera.listar_ingredientes(self)\n",
        "    \n",
        "    def preparar_jugo(self):\n",
        "        return Jugera.preparar_jugo(self)"
      ],
      "metadata": {
        "id": "zi54tGHztr_c"
      },
      "id": "zi54tGHztr_c",
      "execution_count": null,
      "outputs": []
    },
    {
      "cell_type": "markdown",
      "source": [
        "### Interacciones\n",
        "\n",
        "Las siguientes celdas les permitirán probar las interacciones de esta clase.\n",
        "La ejecución es solo referencial y no lleva puntaje. La idea es que la utilice como guía para desarrollar la clase."
      ],
      "metadata": {
        "tags": [],
        "cell_id": "00036-342fea3a-f9ca-4640-8b91-b8aad9dbe1f4",
        "deepnote_cell_type": "markdown",
        "deepnote_cell_height": 122.796875,
        "id": "U-lugSfPXVeB"
      },
      "id": "U-lugSfPXVeB"
    },
    {
      "cell_type": "code",
      "metadata": {
        "tags": [],
        "deepnote_to_be_reexecuted": false,
        "source_hash": "d7617c26",
        "execution_start": 1648863396777,
        "execution_millis": 4,
        "cell_id": "00037-17d018bc-6787-43f5-b3bf-cced43cb481c",
        "deepnote_cell_type": "code",
        "deepnote_cell_height": 143,
        "id": "RfYZDYlqXVeC",
        "colab": {
          "base_uri": "https://localhost:8080/"
        },
        "outputId": "b7d04059-1dd8-4789-aa8f-4e1581e4d667"
      },
      "source": [
        "jugera_2 = Jugera(False)\n",
        "\n",
        "jugera_2.listar_ingredientes()"
      ],
      "execution_count": null,
      "outputs": [
        {
          "output_type": "stream",
          "name": "stdout",
          "text": [
            "Bandeja vacía\n"
          ]
        }
      ],
      "id": "RfYZDYlqXVeC"
    },
    {
      "cell_type": "code",
      "metadata": {
        "tags": [],
        "deepnote_to_be_reexecuted": false,
        "source_hash": "480070d3",
        "execution_start": 1648863398145,
        "execution_millis": 18,
        "cell_id": "00038-95a2db01-4115-48c9-bb65-7038de5dd2ff",
        "deepnote_cell_type": "code",
        "deepnote_cell_height": 139.1875,
        "id": "kNxI4v4JXVeC",
        "colab": {
          "base_uri": "https://localhost:8080/"
        },
        "outputId": "2f647319-ccc7-439b-86f1-8aa19387b1c8"
      },
      "source": [
        "jugera_2.preparar_jugo()"
      ],
      "execution_count": null,
      "outputs": [
        {
          "output_type": "stream",
          "name": "stdout",
          "text": [
            "Alerta ⚠️: El electrodoméstico no está enchufado\n",
            "Error ❌: La bandeja no tiene ingredientes.\n"
          ]
        }
      ],
      "id": "kNxI4v4JXVeC"
    },
    {
      "cell_type": "code",
      "metadata": {
        "tags": [],
        "deepnote_to_be_reexecuted": false,
        "source_hash": "d3e1edd9",
        "execution_start": 1648863398900,
        "execution_millis": 3,
        "cell_id": "00039-648e90a9-a693-4d0a-8692-a20751cfc99a",
        "deepnote_cell_type": "code",
        "deepnote_cell_height": 94,
        "id": "K47CFAwwXVeD"
      },
      "source": [
        "# Enchufamos el electrodoméstico\n",
        "jugera_2.enchufar()"
      ],
      "execution_count": null,
      "outputs": [],
      "id": "K47CFAwwXVeD"
    },
    {
      "cell_type": "code",
      "metadata": {
        "tags": [],
        "deepnote_to_be_reexecuted": false,
        "source_hash": "b81f1f5b",
        "execution_start": 1648863400238,
        "execution_millis": 17,
        "cell_id": "00040-88f17b75-396d-4170-88cd-bafad6f7f911",
        "deepnote_cell_type": "code",
        "deepnote_cell_height": 162.1875,
        "id": "LGNrcJFRXVeD",
        "colab": {
          "base_uri": "https://localhost:8080/"
        },
        "outputId": "3383e1f9-ae0d-40ef-833b-ca08eda3e946"
      },
      "source": [
        "# Esta celda debería levantar ina excepción informandoles que la bandeja no tiene ingredientes.\n",
        "jugera_2.preparar_jugo()"
      ],
      "execution_count": null,
      "outputs": [
        {
          "output_type": "stream",
          "name": "stdout",
          "text": [
            "Error ❌: La bandeja no tiene ingredientes.\n"
          ]
        }
      ],
      "id": "LGNrcJFRXVeD"
    },
    {
      "cell_type": "code",
      "metadata": {
        "tags": [],
        "deepnote_to_be_reexecuted": false,
        "source_hash": "a016a727",
        "execution_start": 1648863402271,
        "execution_millis": 482,
        "cell_id": "00041-d568b85e-c5c6-4906-94a7-01c11a0dc18d",
        "deepnote_cell_type": "code",
        "deepnote_cell_height": 157.1875,
        "id": "BaH0e_WWXVeD"
      },
      "source": [
        "# Agregamos algunos ingredientes (en este caso, como son más de 3, fallará)\n",
        "jugera_2.bandeja = [naranja, platano, frutilla, limon]"
      ],
      "execution_count": null,
      "outputs": [],
      "id": "BaH0e_WWXVeD"
    },
    {
      "cell_type": "code",
      "metadata": {
        "tags": [],
        "deepnote_to_be_reexecuted": false,
        "source_hash": "561a3ff9",
        "execution_start": 1648863404537,
        "execution_millis": 20,
        "cell_id": "00042-8428a7c5-2a18-4c9f-9550-f5caa8f375f5",
        "deepnote_cell_type": "code",
        "deepnote_cell_height": 175.1875,
        "id": "xNzICqn5XVeE"
      },
      "source": [
        "# Agregamos algunos ingredientes \n",
        "# (en este caso debería fallar, ya que estamos entregando un string en el primer lugar)\n",
        "jugera_2.bandeja = [\"naranja\", platano, frutilla]"
      ],
      "execution_count": null,
      "outputs": [],
      "id": "xNzICqn5XVeE"
    },
    {
      "cell_type": "code",
      "metadata": {
        "tags": [],
        "deepnote_to_be_reexecuted": false,
        "source_hash": "ecc3586",
        "execution_start": 1648863408300,
        "execution_millis": 2,
        "cell_id": "00043-cdaa6e03-e046-4306-b84e-6aa8d00e6b4f",
        "deepnote_cell_type": "code",
        "deepnote_cell_height": 175.1875,
        "id": "bRrm1fqcXVeE"
      },
      "source": [
        "# Agregamos algunos ingredientes \n",
        "# (en este caso debería fallar, ya que arándando tiene solo la llave nombre)\n",
        "jugera_2.bandeja = [{'nombre': 'arándano'}, platano, frutilla]"
      ],
      "execution_count": null,
      "outputs": [],
      "id": "bRrm1fqcXVeE"
    },
    {
      "cell_type": "code",
      "metadata": {
        "tags": [],
        "deepnote_to_be_reexecuted": false,
        "source_hash": "b2bcbf",
        "execution_start": 1648863409767,
        "execution_millis": 6,
        "cell_id": "00044-5f6a180e-79e3-43be-9bac-9d8ca3d8994d",
        "deepnote_cell_type": "code",
        "deepnote_cell_height": 179,
        "id": "Q5Iy3FRAXVeE",
        "colab": {
          "base_uri": "https://localhost:8080/"
        },
        "outputId": "b663b6b9-6760-45df-f359-bc9938810640"
      },
      "source": [
        "# Agregamos algunos ingredientes (en este caso, como son 3, debería funcionar)\n",
        "jugera_2.bandeja = [naranja, platano, frutilla]\n",
        "\n",
        "# Y los listamos (debería imprimir: 'Ingredientes en la bandeja: naranja, plátano')\n",
        "jugera_2.listar_ingredientes()"
      ],
      "execution_count": null,
      "outputs": [
        {
          "output_type": "stream",
          "name": "stdout",
          "text": [
            "Ingredientes en la bandeja: naranja,plátano,frutilla\n"
          ]
        }
      ],
      "id": "Q5Iy3FRAXVeE"
    },
    {
      "cell_type": "code",
      "metadata": {
        "tags": [],
        "deepnote_to_be_reexecuted": false,
        "source_hash": "a9d685c1",
        "execution_start": 1648863411760,
        "execution_millis": 5,
        "cell_id": "00045-97676ca5-7d02-499f-974d-9e53412fcdc2",
        "deepnote_cell_type": "code",
        "deepnote_cell_height": 194.1875,
        "deepnote_output_heights": [
          null,
          20.1875
        ],
        "id": "1UVsMv7sXVeF",
        "colab": {
          "base_uri": "https://localhost:8080/"
        },
        "outputId": "79c38e21-4ae9-405a-f7f3-de8082215259"
      },
      "source": [
        "# Una vez preparado el jugo, imprima el contenido del jugo y si una alerta, \n",
        "# en el caso que el jugo tenga pepas.\n",
        "jugera_2.preparar_jugo()"
      ],
      "execution_count": null,
      "outputs": [
        {
          "output_type": "stream",
          "name": "stdout",
          "text": [
            "Alerta ⚠️: El jugo puede contener restos de pepas.\n",
            "Jugo de naranja,plátano,frutilla listo. 🏖️🥤 Que lo disfrutes!!! 🥤🏖️.\n"
          ]
        }
      ],
      "id": "1UVsMv7sXVeF"
    },
    {
      "cell_type": "markdown",
      "source": [
        "<a style='text-decoration:none;line-height:16px;display:flex;color:#5B5B62;padding:10px;justify-content:end;' href='https://deepnote.com?utm_source=created-in-deepnote-cell&projectId=87110296-876e-426f-b91d-aaf681223468' target=\"_blank\">\n",
        "<img alt='Created in deepnote.com' style='display:inline;max-height:16px;margin:0px;margin-right:7.5px;' src='data:image/svg+xml;base64,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' > </img>\n",
        "Created in <span style='font-weight:600;margin-left:4px;'>Deepnote</span></a>"
      ],
      "metadata": {
        "tags": [],
        "created_in_deepnote_cell": true,
        "deepnote_cell_type": "markdown",
        "id": "ITRGXmMMXVeF"
      },
      "id": "ITRGXmMMXVeF"
    }
  ],
  "nbformat": 4,
  "nbformat_minor": 5,
  "metadata": {
    "kernelspec": {
      "display_name": "Python 3",
      "language": "python",
      "name": "python3"
    },
    "language_info": {
      "codemirror_mode": {
        "name": "ipython",
        "version": 3
      },
      "file_extension": ".py",
      "mimetype": "text/x-python",
      "name": "python",
      "nbconvert_exporter": "python",
      "pygments_lexer": "ipython3",
      "version": "3.8.3"
    },
    "colab": {
      "provenance": [],
      "collapsed_sections": []
    },
    "deepnote_notebook_id": "de356b11-874c-495a-ba14-3a203f214e90",
    "deepnote": {},
    "deepnote_execution_queue": []
  }
}